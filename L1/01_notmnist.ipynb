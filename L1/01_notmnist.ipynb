{
 "cells": [
  {
   "cell_type": "code",
   "execution_count": 1,
   "metadata": {
    "collapsed": true
   },
   "outputs": [],
   "source": [
    "### Load packages\n",
    "\n",
    "%matplotlib inline\n",
    "\n",
    "import matplotlib.pyplot as plt\n",
    "import numpy as np\n",
    "import os\n",
    "import sys\n",
    "import tarfile\n",
    "from IPython.display import display, Image\n",
    "from scipy import ndimage\n",
    "from sklearn.linear_model import LogisticRegression\n",
    "from six.moves.urllib.request import urlretrieve\n",
    "from six.moves import cPickle as pickle"
   ]
  },
  {
   "cell_type": "code",
   "execution_count": 2,
   "metadata": {
    "collapsed": true
   },
   "outputs": [],
   "source": [
    "### Define environment variables\n",
    "\n",
    "BASEDIR = \"/Users/theodore/workspace/pycharm/TensorFlowUdacity\"\n",
    "\n",
    "DATADIR = os.path.join(BASEDIR, \"data\")\n",
    "TRAINDATADIR = os.path.join(DATADIR, \"notmnist\", \"notmnist_large\")\n",
    "TESTDATADIR = os.path.join(DATADIR, \"notmnist\", \"notmnist_small\")"
   ]
  },
  {
   "cell_type": "code",
   "execution_count": 3,
   "metadata": {
    "collapsed": true
   },
   "outputs": [],
   "source": [
    "### Functions for getting array of directory paths and array of file paths\n",
    "\n",
    "def get_dir_paths(root):\n",
    "  return [os.path.join(root, n) for n in sorted(os.listdir(root)) if os.path.isdir(os.path.join(root, n))]\n",
    "\n",
    "def get_file_paths(root):\n",
    "  return [os.path.join(root, n) for n in sorted(os.listdir(root)) if os.path.isfile(os.path.join(root, n))]"
   ]
  },
  {
   "cell_type": "code",
   "execution_count": 4,
   "metadata": {
    "collapsed": false
   },
   "outputs": [],
   "source": [
    "### Get directory and file paths of training and test sets\n",
    "\n",
    "train_data_paths = get_dir_paths(TRAINDATADIR)\n",
    "test_data_paths = get_dir_paths(TESTDATADIR)"
   ]
  },
  {
   "cell_type": "code",
   "execution_count": 5,
   "metadata": {
    "collapsed": false
   },
   "outputs": [],
   "source": [
    "### Problem 1"
   ]
  },
  {
   "cell_type": "code",
   "execution_count": 6,
   "metadata": {
    "collapsed": false
   },
   "outputs": [
    {
     "data": {
      "image/png": "[encoded data removed]",
      "text/plain": [
       "<IPython.core.display.Image object>"
      ]
     },
     "metadata": {},
     "output_type": "display_data"
    },
    {
     "data": {
      "image/png": "[encoded data removed]",
      "text/plain": [
       "<IPython.core.display.Image object>"
      ]
     },
     "metadata": {},
     "output_type": "display_data"
    },
    {
     "data": {
      "image/png": "[encoded data removed]",
      "text/plain": [
       "<IPython.core.display.Image object>"
      ]
     },
     "metadata": {},
     "output_type": "display_data"
    },
    {
     "data": {
      "image/png": "[encoded data removed]",
      "text/plain": [
       "<IPython.core.display.Image object>"
      ]
     },
     "metadata": {},
     "output_type": "display_data"
    },
    {
     "data": {
      "image/png": "[encoded data removed]",
      "text/plain": [
       "<IPython.core.display.Image object>"
      ]
     },
     "metadata": {},
     "output_type": "display_data"
    }
   ],
   "source": [
    "## Display a sample of 5 images in their initial png format\n",
    "\n",
    "nsamples = 5\n",
    "\n",
    "for i in np.arange(nsamples):\n",
    "    display(Image(filename=np.random.choice(get_file_paths(np.random.choice(test_data_paths)))))"
   ]
  },
  {
   "cell_type": "code",
   "execution_count": 7,
   "metadata": {
    "collapsed": true
   },
   "outputs": [],
   "source": [
    "## Set image properties\n",
    "\n",
    "image_size = 28 # Pixel width and height\n",
    "pixel_depth = 255.0  # Number of levels per pixel"
   ]
  },
  {
   "cell_type": "code",
   "execution_count": 8,
   "metadata": {
    "collapsed": false
   },
   "outputs": [],
   "source": [
    "## Read a sample image\n",
    "\n",
    "image_file = np.random.choice(get_file_paths(np.random.choice(test_data_paths)))\n",
    "image_data = ndimage.imread(image_file).astype(float)"
   ]
  },
  {
   "cell_type": "code",
   "execution_count": 9,
   "metadata": {
    "collapsed": false
   },
   "outputs": [
    {
     "data": {
      "text/plain": [
       "numpy.ndarray"
      ]
     },
     "execution_count": 9,
     "metadata": {},
     "output_type": "execute_result"
    }
   ],
   "source": [
    "## Show type of image object\n",
    "\n",
    "type(image_data)"
   ]
  },
  {
   "cell_type": "code",
   "execution_count": 10,
   "metadata": {
    "collapsed": false
   },
   "outputs": [
    {
     "data": {
      "text/plain": [
       "(28, 28)"
      ]
     },
     "execution_count": 10,
     "metadata": {},
     "output_type": "execute_result"
    }
   ],
   "source": [
    "## Show dimensions of image object\n",
    "\n",
    "image_data.shape"
   ]
  },
  {
   "cell_type": "code",
   "execution_count": 11,
   "metadata": {
    "collapsed": false
   },
   "outputs": [
    {
     "data": {
      "text/plain": [
       "array([[   0.,    0.,    2.,    0.,   98.,  176.,  171.,  154.,  144.,\n",
       "         144.,  147.,  163.,  168.,   44.,    0.,    2.,    0.,    1.,\n",
       "           0.,  100.,  162.,  153.,  143.,  142.,  142.,  144.,  157.,\n",
       "         139.],\n",
       "       [   0.,    0.,    1.,    0.,   37.,  110.,  159.,  246.,  255.,\n",
       "         255.,  255.,  184.,  118.,   24.,    0.,    1.,    0.,    1.,\n",
       "           0.,   58.,  126.,  201.,  255.,  255.,  255.,  255.,  180.,\n",
       "         114.],\n",
       "       [   0.,    0.,    0.,    0.,    0.,    0.,    0.,  139.,  251.,\n",
       "         251.,  157.,    0.,    0.,    0.,    0.,    0.,    0.,    0.,\n",
       "           0.,    0.,    0.,    0.,  194.,  251.,  252.,  104.,    0.,\n",
       "           0.],\n",
       "       [   0.,    0.,    0.,    0.,    1.,    6.,    3.,  169.,  255.,\n",
       "         255.,   86.,    2.,    7.,    1.,    0.,    0.,    0.,    0.,\n",
       "           0.,    3.,    5.,    7.,  210.,  255.,  253.,   42.,    2.,\n",
       "           6.],\n",
       "       [   0.,    0.,    0.,    0.,    1.,    0.,    4.,  215.,  255.,\n",
       "         249.,   47.,    0.,    2.,    0.,    0.,    0.,    0.,    0.,\n",
       "           0.,    2.,    0.,   34.,  245.,  255.,  224.,   13.,    0.,\n",
       "           1.],\n",
       "       [   0.,    0.,    0.,    0.,    2.,    0.,   34.,  247.,  255.,\n",
       "         223.,    8.,    0.,    1.,    0.,    0.,    0.,    0.,    0.,\n",
       "           0.,    3.,    0.,   75.,  255.,  255.,  187.,    0.,    2.,\n",
       "           0.],\n",
       "       [   0.,    0.,    0.,    0.,    3.,    0.,   80.,  255.,  255.,\n",
       "         177.,    0.,    2.,    0.,    0.,    0.,    0.,    0.,    0.,\n",
       "           0.,    4.,    0.,  128.,  255.,  255.,  140.,    0.,    3.,\n",
       "           0.],\n",
       "       [   0.,    0.,    0.,    0.,    4.,    0.,  127.,  255.,  255.,\n",
       "         123.,    0.,    4.,    0.,    0.,    0.,    0.,    0.,    0.,\n",
       "           0.,    2.,    0.,  175.,  255.,  255.,   88.,    0.,    3.,\n",
       "           0.],\n",
       "       [   0.,    0.,    0.,    0.,    2.,    0.,  179.,  255.,  255.,\n",
       "          72.,    0.,    3.,    0.,    0.,    0.,    0.,    0.,    0.,\n",
       "           1.,    0.,    6.,  220.,  255.,  250.,   47.,    0.,    3.,\n",
       "           0.],\n",
       "       [   0.,    0.,    0.,    1.,    0.,    8.,  220.,  255.,  242.,\n",
       "          25.,    0.,    2.,    0.,    0.,    0.,    0.,    0.,    0.,\n",
       "           2.,    0.,   39.,  249.,  255.,  227.,   11.,    0.,    1.,\n",
       "           0.],\n",
       "       [   0.,    0.,    0.,    2.,    0.,   43.,  248.,  255.,  203.,\n",
       "           5.,    3.,    2.,    2.,    2.,    2.,    2.,    2.,    2.,\n",
       "           5.,    2.,   85.,  255.,  255.,  187.,    0.,    2.,    0.,\n",
       "           0.],\n",
       "       [   0.,    0.,    0.,    3.,    0.,   85.,  255.,  255.,  145.,\n",
       "           0.,    0.,    0.,    0.,    0.,    0.,    0.,    0.,    0.,\n",
       "           0.,    0.,  133.,  255.,  255.,  139.,    0.,    4.,    0.,\n",
       "           0.],\n",
       "       [   0.,    0.,    0.,    4.,    0.,  138.,  255.,  254.,  157.,\n",
       "          47.,   40.,   34.,   32.,   30.,   28.,   26.,   24.,   23.,\n",
       "          24.,   31.,  203.,  255.,  255.,   92.,    0.,    4.,    0.,\n",
       "           0.],\n",
       "       [   0.,    0.,    0.,    2.,    0.,  185.,  255.,  254.,  255.,\n",
       "         255.,  255.,  255.,  255.,  255.,  255.,  253.,  250.,  249.,\n",
       "         249.,  252.,  255.,  255.,  254.,   46.,    0.,    2.,    0.,\n",
       "           0.],\n",
       "       [   0.,    0.,    1.,    0.,   12.,  228.,  255.,  238.,   82.,\n",
       "          76.,  105.,  122.,  140.,  141.,  135.,  139.,  143.,  148.,\n",
       "         133.,  187.,  254.,  255.,  228.,   12.,    0.,    1.,    0.,\n",
       "           0.],\n",
       "       [   0.,    0.,    2.,    0.,   48.,  253.,  255.,  202.,    0.,\n",
       "           0.,    0.,    0.,    0.,    0.,    0.,    0.,    0.,    0.,\n",
       "           0.,  100.,  255.,  255.,  187.,    0.,    1.,    0.,    0.,\n",
       "           0.],\n",
       "       [   0.,    0.,    4.,    0.,   96.,  255.,  255.,  167.,    3.,\n",
       "           6.,    3.,    3.,    3.,    3.,    3.,    3.,    3.,    7.,\n",
       "           3.,  158.,  255.,  255.,  142.,    0.,    4.,    0.,    0.,\n",
       "           0.],\n",
       "       [   0.,    0.,    4.,    0.,  145.,  255.,  255.,  120.,    0.,\n",
       "           4.,    0.,    0.,    0.,    0.,    0.,    0.,    1.,    0.,\n",
       "           2.,  203.,  255.,  255.,   90.,    0.,    3.,    0.,    0.,\n",
       "           0.],\n",
       "       [   0.,    0.,    1.,    0.,  195.,  255.,  255.,   74.,    0.,\n",
       "           4.,    0.,    0.,    0.,    0.,    0.,    0.,    2.,    0.,\n",
       "          25.,  243.,  255.,  252.,   48.,    0.,    2.,    0.,    0.,\n",
       "           0.],\n",
       "       [   0.,    1.,    0.,   18.,  233.,  255.,  246.,   30.,    0.,\n",
       "           1.,    0.,    0.,    0.,    0.,    0.,    0.,    3.,    0.,\n",
       "          69.,  255.,  255.,  227.,   14.,    0.,    1.,    0.,    0.,\n",
       "           0.],\n",
       "       [   0.,    3.,    0.,   57.,  253.,  255.,  213.,    4.,    0.,\n",
       "           1.,    0.,    0.,    0.,    0.,    0.,    0.,    4.,    0.,\n",
       "         120.,  255.,  255.,  190.,    0.,    2.,    0.,    0.,    0.,\n",
       "           0.],\n",
       "       [   0.,    3.,    0.,  102.,  255.,  255.,  169.,    0.,    3.,\n",
       "           0.,    0.,    0.,    0.,    0.,    0.,    0.,    2.,    0.,\n",
       "         172.,  255.,  255.,  141.,    0.,    3.,    0.,    0.,    0.,\n",
       "           0.],\n",
       "       [   0.,    3.,    0.,  156.,  255.,  255.,  123.,    0.,    4.,\n",
       "           0.,    0.,    0.,    0.,    0.,    0.,    1.,    0.,    5.,\n",
       "         219.,  255.,  255.,   93.,    0.,    4.,    0.,    0.,    0.,\n",
       "           0.],\n",
       "       [   1.,    1.,    2.,  200.,  255.,  255.,   71.,    0.,    3.,\n",
       "           0.,    0.,    0.,    0.,    0.,    0.,    2.,    0.,   41.,\n",
       "         248.,  255.,  253.,   49.,    0.,    2.,    0.,    0.,    0.,\n",
       "           0.],\n",
       "       [   3.,    4.,   20.,  236.,  255.,  246.,   35.,    4.,    4.,\n",
       "           0.,    0.,    0.,    0.,    0.,    2.,    7.,    2.,   82.,\n",
       "         255.,  255.,  229.,   15.,    2.,    2.,    0.,    0.,    0.,\n",
       "           0.],\n",
       "       [   0.,    0.,   62.,  254.,  253.,  239.,   18.,    0.,    0.,\n",
       "           0.,    0.,    0.,    0.,    0.,    0.,    0.,    0.,  145.,\n",
       "         255.,  255.,  205.,    0.,    0.,    0.,    0.,    0.,    0.,\n",
       "           0.],\n",
       "       [  52.,  112.,  222.,  255.,  255.,  255.,  180.,  105.,   59.,\n",
       "           4.,    0.,    0.,    1.,    0.,   41.,  115.,  166.,  248.,\n",
       "         255.,  255.,  250.,  125.,   52.,   19.,    1.,    0.,    0.,\n",
       "           0.],\n",
       "       [ 218.,  255.,  230.,  211.,  214.,  222.,  241.,  255.,  248.,\n",
       "          57.,    0.,    2.,    3.,    0.,  145.,  255.,  255.,  255.,\n",
       "         255.,  255.,  255.,  255.,  250.,  204.,   18.,    0.,    1.,\n",
       "           0.]])"
      ]
     },
     "execution_count": 11,
     "metadata": {},
     "output_type": "execute_result"
    }
   ],
   "source": [
    "## Show numeric representation of image\n",
    "\n",
    "image_data"
   ]
  },
  {
   "cell_type": "code",
   "execution_count": 12,
   "metadata": {
    "collapsed": false
   },
   "outputs": [
    {
     "data": {
      "image/png": "[encoded data removed]",
      "text/plain": [
       "<matplotlib.figure.Figure at 0x10d582d50>"
      ]
     },
     "metadata": {},
     "output_type": "display_data"
    }
   ],
   "source": [
    "## Plot image using imshow\n",
    "\n",
    "plt.imshow(image_data)\n",
    "plt.show()\n",
    "# display(Image(image_data))"
   ]
  },
  {
   "cell_type": "code",
   "execution_count": 13,
   "metadata": {
    "collapsed": false
   },
   "outputs": [
    {
     "data": {
      "image/png": "[encoded data removed]",
      "text/plain": [
       "<matplotlib.figure.Figure at 0x10b658890>"
      ]
     },
     "metadata": {},
     "output_type": "display_data"
    }
   ],
   "source": [
    "## Plot image using a scatterplot\n",
    "\n",
    "colors = [str(i/pixel_depth) for i in np.ravel(image_data)]\n",
    "plt.scatter(\n",
    "    np.tile(np.arange(image_size), image_size),\n",
    "    np.repeat(np.flipud(np.arange(image_size)), image_size),\n",
    "    s=150,\n",
    "    c=colors,\n",
    "    marker='s'\n",
    ")\n",
    "plt.show()"
   ]
  },
  {
   "cell_type": "code",
   "execution_count": 14,
   "metadata": {
    "collapsed": false
   },
   "outputs": [
    {
     "data": {
      "image/png": "[encoded data removed]",
      "text/plain": [
       "<matplotlib.figure.Figure at 0x10d751350>"
      ]
     },
     "metadata": {},
     "output_type": "display_data"
    }
   ],
   "source": [
    "## Plot image using a scatterplot by setting cmap option\n",
    "\n",
    "colors = [str(i/pixel_depth) for i in np.ravel(image_data)]\n",
    "plt.scatter(\n",
    "    np.tile(np.arange(image_size), image_size),\n",
    "    np.repeat(np.flipud(np.arange(image_size)), image_size),\n",
    "    s=150,\n",
    "    c=colors,\n",
    "    marker='s',\n",
    "    cmap=plt.cm.viridis    \n",
    ")\n",
    "plt.show()"
   ]
  },
  {
   "cell_type": "code",
   "execution_count": 15,
   "metadata": {
    "collapsed": false
   },
   "outputs": [],
   "source": [
    "## Function for loading data for a single letter\n",
    "\n",
    "def load_letter(root, image_size, pixel_depth, verbose=True, min_nimages=1):\n",
    "  \"\"\"Load data for a single letter.\"\"\"\n",
    "\n",
    "  if verbose:\n",
    "        print(root)\n",
    "\n",
    "  image_files = get_file_paths(root)\n",
    "  dataset = np.ndarray(shape=(len(image_files), image_size, image_size), dtype=np.float32)\n",
    "\n",
    "  image_index = 0\n",
    "  for image in image_files:\n",
    "    try:\n",
    "      image_data = (ndimage.imread(image).astype(float)-pixel_depth/2)/pixel_depth\n",
    "      if image_data.shape != (image_size, image_size):\n",
    "        raise Exception('Unexpected image shape: %s' % str(image_data.shape))\n",
    "      dataset[image_index, :, :] = image_data\n",
    "      image_index += 1\n",
    "    except IOError as e:\n",
    "      print('Skipping because of not being able to read: ', image_file)\n",
    "\n",
    "  dataset = dataset[0:image_index, :, :]\n",
    "  if image_index < min_nimages:\n",
    "    raise Exception('Fewer images than expected: %d < %d' % (image_index, min_nimages))\n",
    "\n",
    "  if verbose:    \n",
    "    print('Full dataset tensor: ', dataset.shape)\n",
    "    print('Mean: ', np.mean(dataset))\n",
    "    print('Standard deviation: ', np.std(dataset))\n",
    "\n",
    "  return dataset"
   ]
  },
  {
   "cell_type": "code",
   "execution_count": 16,
   "metadata": {
    "collapsed": false
   },
   "outputs": [
    {
     "name": "stdout",
     "output_type": "stream",
     "text": [
      "/Users/theodore/workspace/pycharm/TensorFlowUdacity/data/notmnist/notmnist_small/C\n",
      "('Full dataset tensor: ', (1873, 28, 28))\n",
      "('Mean: ', -0.14152053)\n",
      "('Standard deviation: ', 0.44269028)\n"
     ]
    }
   ],
   "source": [
    "## Test load_letter() function by loading data for letter C\n",
    "\n",
    "letter_data = load_letter(test_data_paths[2], image_size, pixel_depth)"
   ]
  },
  {
   "cell_type": "code",
   "execution_count": 17,
   "metadata": {
    "collapsed": false
   },
   "outputs": [
    {
     "data": {
      "text/plain": [
       "(1873, 28, 28)"
      ]
     },
     "execution_count": 17,
     "metadata": {},
     "output_type": "execute_result"
    }
   ],
   "source": [
    "## Show dimensions of loaded data for letter C\n",
    "\n",
    "letter_data.shape"
   ]
  },
  {
   "cell_type": "code",
   "execution_count": 18,
   "metadata": {
    "collapsed": false
   },
   "outputs": [
    {
     "data": {
      "text/plain": [
       "(28, 28)"
      ]
     },
     "execution_count": 18,
     "metadata": {},
     "output_type": "execute_result"
    }
   ],
   "source": [
    "## Show dimensions of data for the first image of letter C\n",
    "\n",
    "letter_data[0, :, :].shape"
   ]
  },
  {
   "cell_type": "code",
   "execution_count": 19,
   "metadata": {
    "collapsed": false
   },
   "outputs": [],
   "source": [
    "## Function for pickling data of all letters\n",
    "\n",
    "def pickle_letters(root, image_size, pixel_depth, verbose=True, min_nimages=1, force=False):\n",
    "  dataset_files = []\n",
    "  for d in root:\n",
    "    pickle_file = d + '.pickle'\n",
    "    dataset_files.append(pickle_file)\n",
    "    if os.path.exists(pickle_file) and not force:\n",
    "      print('%s already present, skipping pickling' % pickle_file)\n",
    "    else:\n",
    "      print('Pickling %s' % pickle_file)\n",
    "      dataset = load_letter(d, image_size, pixel_depth, verbose=verbose, min_nimages=min_nimages)\n",
    "      try:\n",
    "        with open(pickle_file, 'wb') as f:\n",
    "          pickle.dump(dataset, f, pickle.HIGHEST_PROTOCOL)\n",
    "      except Exception as e:\n",
    "        print('Unable to save data to', pickle_file, ':', e)\n",
    "  \n",
    "  return dataset_files"
   ]
  },
  {
   "cell_type": "code",
   "execution_count": null,
   "metadata": {
    "collapsed": false
   },
   "outputs": [],
   "source": [
    "### Pickle training set\n",
    "\n",
    "train_datasets = pickle_letters(train_data_paths, image_size, pixel_depth)"
   ]
  },
  {
   "cell_type": "code",
   "execution_count": null,
   "metadata": {
    "collapsed": false
   },
   "outputs": [],
   "source": [
    "### Pickle test set\n",
    "\n",
    "test_datasets = pickle_letters(test_data_paths, image_size, pixel_depth)"
   ]
  },
  {
   "cell_type": "code",
   "execution_count": 20,
   "metadata": {
    "collapsed": true
   },
   "outputs": [],
   "source": [
    "### Problem 2"
   ]
  },
  {
   "cell_type": "code",
   "execution_count": 21,
   "metadata": {
    "collapsed": false
   },
   "outputs": [],
   "source": [
    "## Test pickling by loading pickle for letter D\n",
    "\n",
    "letter_data = np.load(os.path.join(DATADIR, \"notmnist\", \"notmnist_large\", \"D.pickle\"))"
   ]
  },
  {
   "cell_type": "code",
   "execution_count": 22,
   "metadata": {
    "collapsed": false
   },
   "outputs": [
    {
     "data": {
      "text/plain": [
       "(52911, 28, 28)"
      ]
     },
     "execution_count": 22,
     "metadata": {},
     "output_type": "execute_result"
    }
   ],
   "source": [
    "## Show dimensions of data loaded from pickle of letter D\n",
    "\n",
    "letter_data.shape"
   ]
  },
  {
   "cell_type": "code",
   "execution_count": 23,
   "metadata": {
    "collapsed": false
   },
   "outputs": [
    {
     "data": {
      "image/png": "[encoded data removed]",
      "text/plain": [
       "<matplotlib.figure.Figure at 0x10d888f10>"
      ]
     },
     "metadata": {},
     "output_type": "display_data"
    }
   ],
   "source": [
    "## Plot fifth image of letter D from loaded pickle using imshow\n",
    "\n",
    "plt.imshow(letter_data[4, :, :])\n",
    "plt.show()"
   ]
  },
  {
   "cell_type": "code",
   "execution_count": 24,
   "metadata": {
    "collapsed": true
   },
   "outputs": [],
   "source": [
    "### Problem 3"
   ]
  },
  {
   "cell_type": "code",
   "execution_count": 25,
   "metadata": {
    "collapsed": false
   },
   "outputs": [
    {
     "data": {
      "text/plain": [
       "array([52909, 52911, 52912, 52911, 52912, 52912, 52912, 52912, 52912, 52911])"
      ]
     },
     "execution_count": 25,
     "metadata": {},
     "output_type": "execute_result"
    }
   ],
   "source": [
    "## Check if training sets are balanced across letter classes using absolute frequency\n",
    "\n",
    "ntrainsets = len(train_data_paths)\n",
    "\n",
    "train_stats = np.empty(shape=ntrainsets, dtype=np.int64)\n",
    "\n",
    "for i in np.arange(ntrainsets):\n",
    "    letter_data = np.load(\".\".join([train_data_paths[i], \"pickle\"]))\n",
    "    train_stats[i] = letter_data.shape[0]\n",
    "\n",
    "train_stats"
   ]
  },
  {
   "cell_type": "code",
   "execution_count": 26,
   "metadata": {
    "collapsed": false
   },
   "outputs": [
    {
     "data": {
      "text/plain": [
       "array([  9.99954641,   9.9999244 ,  10.0001134 ,   9.9999244 ,\n",
       "        10.0001134 ,  10.0001134 ,  10.0001134 ,  10.0001134 ,\n",
       "        10.0001134 ,   9.9999244 ])"
      ]
     },
     "execution_count": 26,
     "metadata": {},
     "output_type": "execute_result"
    }
   ],
   "source": [
    "## Check if training sets are balanced across letter classes using percentages\n",
    "\n",
    "train_stats_perc = 100*train_stats/np.float32(sum(train_stats))\n",
    "\n",
    "train_stats_perc"
   ]
  },
  {
   "cell_type": "code",
   "execution_count": 27,
   "metadata": {
    "collapsed": false
   },
   "outputs": [
    {
     "data": {
      "text/plain": [
       "array([1872, 1873, 1873, 1873, 1873, 1872, 1872, 1872, 1872, 1872])"
      ]
     },
     "execution_count": 27,
     "metadata": {},
     "output_type": "execute_result"
    }
   ],
   "source": [
    "## Check if test sets are balanced across letter classes using absolute frequency\n",
    "\n",
    "ntestsets = len(test_data_paths)\n",
    "\n",
    "test_stats = np.empty(shape=ntestsets, dtype=np.int64)\n",
    "\n",
    "for i in np.arange(ntrainsets):\n",
    "    letter_data = np.load(\".\".join([test_data_paths[i], \"pickle\"]))\n",
    "    test_stats[i] = letter_data.shape[0]\n",
    "\n",
    "test_stats"
   ]
  },
  {
   "cell_type": "code",
   "execution_count": 28,
   "metadata": {
    "collapsed": false
   },
   "outputs": [
    {
     "data": {
      "text/plain": [
       "array([  9.9978637 ,  10.00320444,  10.00320444,  10.00320444,\n",
       "        10.00320444,   9.9978637 ,   9.9978637 ,   9.9978637 ,\n",
       "         9.9978637 ,   9.9978637 ])"
      ]
     },
     "execution_count": 28,
     "metadata": {},
     "output_type": "execute_result"
    }
   ],
   "source": [
    "## Check if test sets are balanced across letter classes using percentages\n",
    "\n",
    "test_stats_perc = 100*test_stats/np.float32(sum(test_stats))\n",
    "\n",
    "test_stats_perc"
   ]
  }
 ],
 "metadata": {
  "kernelspec": {
   "display_name": "Python 2",
   "language": "python",
   "name": "python2"
  },
  "language_info": {
   "codemirror_mode": {
    "name": "ipython",
    "version": 2
   },
   "file_extension": ".py",
   "mimetype": "text/x-python",
   "name": "python",
   "nbconvert_exporter": "python",
   "pygments_lexer": "ipython2",
   "version": "2.7.11"
  }
 },
 "nbformat": 4,
 "nbformat_minor": 0
}
