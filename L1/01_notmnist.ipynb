{
 "cells": [
  {
   "cell_type": "code",
   "execution_count": 1,
   "metadata": {
    "collapsed": true
   },
   "outputs": [],
   "source": [
    "### Load packages\n",
    "\n",
    "%matplotlib inline\n",
    "\n",
    "import matplotlib.pyplot as plt\n",
    "import numpy as np\n",
    "import os\n",
    "import sys\n",
    "import tarfile\n",
    "from IPython.display import display, Image\n",
    "from scipy import ndimage\n",
    "from sklearn.linear_model import LogisticRegression\n",
    "from six.moves.urllib.request import urlretrieve\n",
    "from six.moves import cPickle as pickle"
   ]
  },
  {
   "cell_type": "code",
   "execution_count": 2,
   "metadata": {
    "collapsed": true
   },
   "outputs": [],
   "source": [
    "### Define environment variables\n",
    "\n",
    "BASEDIR = \"/Users/theodore/workspace/self_education/udacity/TensorFlowUdacity\"\n",
    "\n",
    "DATADIR = os.path.join(BASEDIR, \"data\")\n",
    "TRAINDATADIR = os.path.join(DATADIR, \"notmnist\", \"notmnist_large\")\n",
    "TESTDATADIR = os.path.join(DATADIR, \"notmnist\", \"notmnist_small\")"
   ]
  },
  {
   "cell_type": "code",
   "execution_count": 3,
   "metadata": {
    "collapsed": true
   },
   "outputs": [],
   "source": [
    "### Functions for getting array of directory paths and array of file paths\n",
    "\n",
    "def get_dir_paths(root):\n",
    "  return [os.path.join(root, n) for n in sorted(os.listdir(root)) if os.path.isdir(os.path.join(root, n))]\n",
    "\n",
    "def get_file_paths(root):\n",
    "  return [os.path.join(root, n) for n in sorted(os.listdir(root)) if os.path.isfile(os.path.join(root, n))]"
   ]
  },
  {
   "cell_type": "code",
   "execution_count": 4,
   "metadata": {
    "collapsed": false
   },
   "outputs": [],
   "source": [
    "### Get directory and file paths of training and test sets\n",
    "\n",
    "train_data_paths = get_dir_paths(TRAINDATADIR)\n",
    "test_data_paths = get_dir_paths(TESTDATADIR)"
   ]
  },
  {
   "cell_type": "code",
   "execution_count": null,
   "metadata": {
    "collapsed": false
   },
   "outputs": [],
   "source": [
    "### Problem 1"
   ]
  },
  {
   "cell_type": "code",
   "execution_count": 5,
   "metadata": {
    "collapsed": false
   },
   "outputs": [
    {
     "data": {
      "image/png": "[encoded data removed]",
      "text/plain": [
       "<IPython.core.display.Image object>"
      ]
     },
     "metadata": {},
     "output_type": "display_data"
    },
    {
     "data": {
      "image/png": "[encoded data removed]",
      "text/plain": [
       "<IPython.core.display.Image object>"
      ]
     },
     "metadata": {},
     "output_type": "display_data"
    },
    {
     "data": {
      "image/png": "[encoded data removed]",
      "text/plain": [
       "<IPython.core.display.Image object>"
      ]
     },
     "metadata": {},
     "output_type": "display_data"
    },
    {
     "data": {
      "image/png": "[encoded data removed]",
      "text/plain": [
       "<IPython.core.display.Image object>"
      ]
     },
     "metadata": {},
     "output_type": "display_data"
    },
    {
     "data": {
      "image/png": "[encoded data removed]",
      "text/plain": [
       "<IPython.core.display.Image object>"
      ]
     },
     "metadata": {},
     "output_type": "display_data"
    }
   ],
   "source": [
    "## Display a sample of 5 images in their initial png format\n",
    "\n",
    "nsamples = 5\n",
    "\n",
    "for i in np.arange(nsamples):\n",
    "    display(Image(filename=np.random.choice(get_file_paths(np.random.choice(test_data_paths)))))"
   ]
  },
  {
   "cell_type": "code",
   "execution_count": 6,
   "metadata": {
    "collapsed": true
   },
   "outputs": [],
   "source": [
    "## Set image properties\n",
    "\n",
    "image_size = 28 # Pixel width and height\n",
    "pixel_depth = 255.0  # Number of levels per pixel"
   ]
  },
  {
   "cell_type": "code",
   "execution_count": 7,
   "metadata": {
    "collapsed": false
   },
   "outputs": [],
   "source": [
    "## Read a sample image\n",
    "\n",
    "image_file = np.random.choice(get_file_paths(np.random.choice(test_data_paths)))\n",
    "image_data = ndimage.imread(image_file).astype(float)"
   ]
  },
  {
   "cell_type": "code",
   "execution_count": 8,
   "metadata": {
    "collapsed": false
   },
   "outputs": [
    {
     "data": {
      "text/plain": [
       "numpy.ndarray"
      ]
     },
     "execution_count": 8,
     "metadata": {},
     "output_type": "execute_result"
    }
   ],
   "source": [
    "## Show type of image object\n",
    "\n",
    "type(image_data)"
   ]
  },
  {
   "cell_type": "code",
   "execution_count": 9,
   "metadata": {
    "collapsed": false
   },
   "outputs": [
    {
     "data": {
      "text/plain": [
       "(28, 28)"
      ]
     },
     "execution_count": 9,
     "metadata": {},
     "output_type": "execute_result"
    }
   ],
   "source": [
    "## Show dimensions of image object\n",
    "\n",
    "image_data.shape"
   ]
  },
  {
   "cell_type": "code",
   "execution_count": 10,
   "metadata": {
    "collapsed": false
   },
   "outputs": [
    {
     "data": {
      "image/png": "[encoded data removed]",
      "text/plain": [
       "<matplotlib.figure.Figure at 0x10beb8310>"
      ]
     },
     "metadata": {},
     "output_type": "display_data"
    }
   ],
   "source": [
    "## Plot image using imshow\n",
    "\n",
    "plt.imshow(image_data)\n",
    "plt.show()\n",
    "# display(Image(image_data))"
   ]
  },
  {
   "cell_type": "code",
   "execution_count": 11,
   "metadata": {
    "collapsed": false
   },
   "outputs": [
    {
     "data": {
      "image/png": "[encoded data removed]",
      "text/plain": [
       "<matplotlib.figure.Figure at 0x10c004090>"
      ]
     },
     "metadata": {},
     "output_type": "display_data"
    }
   ],
   "source": [
    "## Plot image using a scatterplot\n",
    "\n",
    "colors = [str(i/pixel_depth) for i in np.ravel(image_data)]\n",
    "plt.scatter(\n",
    "    np.tile(np.arange(image_size), image_size),\n",
    "    np.repeat(np.flipud(np.arange(image_size)), image_size),\n",
    "    s=150,\n",
    "    c=colors,\n",
    "    marker='s'\n",
    ")\n",
    "plt.show()"
   ]
  },
  {
   "cell_type": "code",
   "execution_count": 12,
   "metadata": {
    "collapsed": false
   },
   "outputs": [
    {
     "data": {
      "image/png": "[encoded data removed]",
      "text/plain": [
       "<matplotlib.figure.Figure at 0x10c032810>"
      ]
     },
     "metadata": {},
     "output_type": "display_data"
    }
   ],
   "source": [
    "## Plot image using a scatterplot by setting cmap option\n",
    "\n",
    "colors = [str(i/pixel_depth) for i in np.ravel(image_data)]\n",
    "plt.scatter(\n",
    "    np.tile(np.arange(image_size), image_size),\n",
    "    np.repeat(np.flipud(np.arange(image_size)), image_size),\n",
    "    s=150,\n",
    "    c=colors,\n",
    "    marker='s',\n",
    "    cmap=plt.cm.viridis    \n",
    ")\n",
    "plt.show()"
   ]
  },
  {
   "cell_type": "code",
   "execution_count": 13,
   "metadata": {
    "collapsed": false
   },
   "outputs": [],
   "source": [
    "## Function for loading data for a single letter\n",
    "\n",
    "def load_letter(root, image_size, pixel_depth, verbose=True, min_nimages=1):\n",
    "  \"\"\"Load data for a single letter.\"\"\"\n",
    "\n",
    "  if verbose:\n",
    "        print(root)\n",
    "\n",
    "  image_files = get_file_paths(root)\n",
    "  dataset = np.ndarray(shape=(len(image_files), image_size, image_size), dtype=np.float32)\n",
    "\n",
    "  image_index = 0\n",
    "  for image in image_files:\n",
    "    try:\n",
    "      image_data = (ndimage.imread(image).astype(float)-pixel_depth/2)/pixel_depth\n",
    "      if image_data.shape != (image_size, image_size):\n",
    "        raise Exception('Unexpected image shape: %s' % str(image_data.shape))\n",
    "      dataset[image_index, :, :] = image_data\n",
    "      image_index += 1\n",
    "    except IOError as e:\n",
    "      print('Skipping because of not being able to read: ', image_file)\n",
    "\n",
    "  dataset = dataset[0:image_index, :, :]\n",
    "  if image_index < min_nimages:\n",
    "    raise Exception('Fewer images than expected: %d < %d' % (image_index, min_nimages))\n",
    "\n",
    "  if verbose:    \n",
    "    print('Full dataset tensor: ', dataset.shape)\n",
    "    print('Mean: ', np.mean(dataset))\n",
    "    print('Standard deviation: ', np.std(dataset))\n",
    "\n",
    "  return dataset"
   ]
  },
  {
   "cell_type": "code",
   "execution_count": 14,
   "metadata": {
    "collapsed": false
   },
   "outputs": [
    {
     "name": "stdout",
     "output_type": "stream",
     "text": [
      "/Users/theodore/workspace/self_education/udacity/TensorFlowUdacity/data/notmnist/notmnist_small/C\n",
      "('Full dataset tensor: ', (1873, 28, 28))\n",
      "('Mean: ', -0.14152053)\n",
      "('Standard deviation: ', 0.44269028)\n"
     ]
    }
   ],
   "source": [
    "## Test load_letter() function by loading data for letter C\n",
    "\n",
    "letter_data = load_letter(test_data_paths[2], image_size, pixel_depth)"
   ]
  },
  {
   "cell_type": "code",
   "execution_count": 15,
   "metadata": {
    "collapsed": false
   },
   "outputs": [
    {
     "data": {
      "text/plain": [
       "(1873, 28, 28)"
      ]
     },
     "execution_count": 15,
     "metadata": {},
     "output_type": "execute_result"
    }
   ],
   "source": [
    "## Show dimensions of loaded data for letter C\n",
    "\n",
    "letter_data.shape"
   ]
  },
  {
   "cell_type": "code",
   "execution_count": 16,
   "metadata": {
    "collapsed": false
   },
   "outputs": [
    {
     "data": {
      "text/plain": [
       "(28, 28)"
      ]
     },
     "execution_count": 16,
     "metadata": {},
     "output_type": "execute_result"
    }
   ],
   "source": [
    "## Show dimensions of data for the first image of letter C\n",
    "\n",
    "letter_data[0, :, :].shape"
   ]
  },
  {
   "cell_type": "code",
   "execution_count": 17,
   "metadata": {
    "collapsed": true
   },
   "outputs": [],
   "source": [
    "## Function for generating pickle filenames\n",
    "\n",
    "def generate_pickle_names(root):\n",
    "  dataset_files = []\n",
    "\n",
    "  for d in root:\n",
    "    pickle_file = d + '.pickle'\n",
    "    dataset_files.append(pickle_file)\n",
    "  \n",
    "  return dataset_files"
   ]
  },
  {
   "cell_type": "code",
   "execution_count": 18,
   "metadata": {
    "collapsed": false
   },
   "outputs": [],
   "source": [
    "## Function for pickling data of all letters\n",
    "\n",
    "def pickle_letters(root, image_size, pixel_depth, verbose=True, min_nimages=1, force=False):\n",
    "  pickle_files = generate_pickle_names(root)\n",
    "  n = len(root)\n",
    "    \n",
    "  for i in np.arange(n):\n",
    "    if os.path.exists(pickle_files[i]) and not force:\n",
    "      print('%s already present, skipping pickling' % pickle_files[i])\n",
    "    else:\n",
    "      print('Pickling %s' % pickle_files[i])\n",
    "      dataset = load_letter(root[i], image_size, pixel_depth, verbose=verbose, minimages=min_nimages)\n",
    "      try:\n",
    "        with open(pickle_files[i], 'wb') as f:\n",
    "          pickle.dump(dataset, f, pickle.HIGHEST_PROTOCOL)\n",
    "      except Exception as e:\n",
    "        print('Unable to save data to', pickle_files[i], ':', e)\n",
    "  \n",
    "  return pickle_files"
   ]
  },
  {
   "cell_type": "code",
   "execution_count": 19,
   "metadata": {
    "collapsed": false
   },
   "outputs": [
    {
     "name": "stdout",
     "output_type": "stream",
     "text": [
      "/Users/theodore/workspace/self_education/udacity/TensorFlowUdacity/data/notmnist/notmnist_large/A.pickle already present, skipping pickling\n",
      "/Users/theodore/workspace/self_education/udacity/TensorFlowUdacity/data/notmnist/notmnist_large/B.pickle already present, skipping pickling\n",
      "/Users/theodore/workspace/self_education/udacity/TensorFlowUdacity/data/notmnist/notmnist_large/C.pickle already present, skipping pickling\n",
      "/Users/theodore/workspace/self_education/udacity/TensorFlowUdacity/data/notmnist/notmnist_large/D.pickle already present, skipping pickling\n",
      "/Users/theodore/workspace/self_education/udacity/TensorFlowUdacity/data/notmnist/notmnist_large/E.pickle already present, skipping pickling\n",
      "/Users/theodore/workspace/self_education/udacity/TensorFlowUdacity/data/notmnist/notmnist_large/F.pickle already present, skipping pickling\n",
      "/Users/theodore/workspace/self_education/udacity/TensorFlowUdacity/data/notmnist/notmnist_large/G.pickle already present, skipping pickling\n",
      "/Users/theodore/workspace/self_education/udacity/TensorFlowUdacity/data/notmnist/notmnist_large/H.pickle already present, skipping pickling\n",
      "/Users/theodore/workspace/self_education/udacity/TensorFlowUdacity/data/notmnist/notmnist_large/I.pickle already present, skipping pickling\n",
      "/Users/theodore/workspace/self_education/udacity/TensorFlowUdacity/data/notmnist/notmnist_large/J.pickle already present, skipping pickling\n"
     ]
    }
   ],
   "source": [
    "### Pickle training set\n",
    "\n",
    "train_files = pickle_letters(train_data_paths, image_size, pixel_depth)"
   ]
  },
  {
   "cell_type": "code",
   "execution_count": 20,
   "metadata": {
    "collapsed": false
   },
   "outputs": [
    {
     "name": "stdout",
     "output_type": "stream",
     "text": [
      "/Users/theodore/workspace/self_education/udacity/TensorFlowUdacity/data/notmnist/notmnist_small/A.pickle already present, skipping pickling\n",
      "/Users/theodore/workspace/self_education/udacity/TensorFlowUdacity/data/notmnist/notmnist_small/B.pickle already present, skipping pickling\n",
      "/Users/theodore/workspace/self_education/udacity/TensorFlowUdacity/data/notmnist/notmnist_small/C.pickle already present, skipping pickling\n",
      "/Users/theodore/workspace/self_education/udacity/TensorFlowUdacity/data/notmnist/notmnist_small/D.pickle already present, skipping pickling\n",
      "/Users/theodore/workspace/self_education/udacity/TensorFlowUdacity/data/notmnist/notmnist_small/E.pickle already present, skipping pickling\n",
      "/Users/theodore/workspace/self_education/udacity/TensorFlowUdacity/data/notmnist/notmnist_small/F.pickle already present, skipping pickling\n",
      "/Users/theodore/workspace/self_education/udacity/TensorFlowUdacity/data/notmnist/notmnist_small/G.pickle already present, skipping pickling\n",
      "/Users/theodore/workspace/self_education/udacity/TensorFlowUdacity/data/notmnist/notmnist_small/H.pickle already present, skipping pickling\n",
      "/Users/theodore/workspace/self_education/udacity/TensorFlowUdacity/data/notmnist/notmnist_small/I.pickle already present, skipping pickling\n",
      "/Users/theodore/workspace/self_education/udacity/TensorFlowUdacity/data/notmnist/notmnist_small/J.pickle already present, skipping pickling\n"
     ]
    }
   ],
   "source": [
    "### Pickle test set\n",
    "\n",
    "test_files = pickle_letters(test_data_paths, image_size, pixel_depth)"
   ]
  },
  {
   "cell_type": "code",
   "execution_count": null,
   "metadata": {
    "collapsed": true
   },
   "outputs": [],
   "source": [
    "### Problem 2"
   ]
  },
  {
   "cell_type": "code",
   "execution_count": 21,
   "metadata": {
    "collapsed": false
   },
   "outputs": [],
   "source": [
    "## Test pickling by loading pickle for letter D\n",
    "\n",
    "letter_data = np.load(os.path.join(DATADIR, \"notmnist\", \"notmnist_large\", \"D.pickle\"))"
   ]
  },
  {
   "cell_type": "code",
   "execution_count": 22,
   "metadata": {
    "collapsed": false
   },
   "outputs": [
    {
     "data": {
      "text/plain": [
       "(52911, 28, 28)"
      ]
     },
     "execution_count": 22,
     "metadata": {},
     "output_type": "execute_result"
    }
   ],
   "source": [
    "## Show dimensions of data loaded from pickle of letter D\n",
    "\n",
    "letter_data.shape"
   ]
  },
  {
   "cell_type": "code",
   "execution_count": 23,
   "metadata": {
    "collapsed": false
   },
   "outputs": [
    {
     "data": {
      "image/png": "[encoded data removed]",
      "text/plain": [
       "<matplotlib.figure.Figure at 0x10c0a8650>"
      ]
     },
     "metadata": {},
     "output_type": "display_data"
    }
   ],
   "source": [
    "## Plot fifth image of letter D from loaded pickle using imshow\n",
    "\n",
    "plt.imshow(letter_data[4, :, :])\n",
    "plt.show()"
   ]
  },
  {
   "cell_type": "code",
   "execution_count": null,
   "metadata": {
    "collapsed": true
   },
   "outputs": [],
   "source": [
    "### Problem 3"
   ]
  },
  {
   "cell_type": "code",
   "execution_count": 24,
   "metadata": {
    "collapsed": false
   },
   "outputs": [
    {
     "data": {
      "text/plain": [
       "array([52909, 52911, 52912, 52911, 52912, 52912, 52912, 52912, 52912, 52911])"
      ]
     },
     "execution_count": 24,
     "metadata": {},
     "output_type": "execute_result"
    }
   ],
   "source": [
    "## Check if training sets are balanced across letter classes using absolute frequencies\n",
    "\n",
    "ntrainsets = len(train_data_paths)\n",
    "\n",
    "train_stats = np.empty(shape=ntrainsets, dtype=np.int64)\n",
    "\n",
    "for i in np.arange(ntrainsets):\n",
    "    letter_data = np.load(\".\".join([train_data_paths[i], \"pickle\"]))\n",
    "    train_stats[i] = letter_data.shape[0]\n",
    "\n",
    "train_stats"
   ]
  },
  {
   "cell_type": "code",
   "execution_count": 25,
   "metadata": {
    "collapsed": false
   },
   "outputs": [
    {
     "data": {
      "text/plain": [
       "array([  9.99954641,   9.9999244 ,  10.0001134 ,   9.9999244 ,\n",
       "        10.0001134 ,  10.0001134 ,  10.0001134 ,  10.0001134 ,\n",
       "        10.0001134 ,   9.9999244 ])"
      ]
     },
     "execution_count": 25,
     "metadata": {},
     "output_type": "execute_result"
    }
   ],
   "source": [
    "## Check if training sets are balanced across letter classes using percentages\n",
    "\n",
    "train_stats_perc = 100*train_stats/np.float32(sum(train_stats))\n",
    "\n",
    "train_stats_perc"
   ]
  },
  {
   "cell_type": "code",
   "execution_count": 26,
   "metadata": {
    "collapsed": false
   },
   "outputs": [
    {
     "data": {
      "text/plain": [
       "array([1872, 1873, 1873, 1873, 1873, 1872, 1872, 1872, 1872, 1872])"
      ]
     },
     "execution_count": 26,
     "metadata": {},
     "output_type": "execute_result"
    }
   ],
   "source": [
    "## Check if test sets are balanced across letter classes using absolute frequencies\n",
    "\n",
    "ntestsets = len(test_data_paths)\n",
    "\n",
    "test_stats = np.empty(shape=ntestsets, dtype=np.int64)\n",
    "\n",
    "for i in np.arange(ntrainsets):\n",
    "    letter_data = np.load(\".\".join([test_data_paths[i], \"pickle\"]))\n",
    "    test_stats[i] = letter_data.shape[0]\n",
    "\n",
    "test_stats"
   ]
  },
  {
   "cell_type": "code",
   "execution_count": 27,
   "metadata": {
    "collapsed": false
   },
   "outputs": [
    {
     "data": {
      "text/plain": [
       "array([  9.9978637 ,  10.00320444,  10.00320444,  10.00320444,\n",
       "        10.00320444,   9.9978637 ,   9.9978637 ,   9.9978637 ,\n",
       "         9.9978637 ,   9.9978637 ])"
      ]
     },
     "execution_count": 27,
     "metadata": {},
     "output_type": "execute_result"
    }
   ],
   "source": [
    "## Check if test sets are balanced across letter classes using percentages\n",
    "\n",
    "test_stats_perc = 100*test_stats/np.float32(sum(test_stats))\n",
    "\n",
    "test_stats_perc"
   ]
  },
  {
   "cell_type": "code",
   "execution_count": 28,
   "metadata": {
    "collapsed": true
   },
   "outputs": [],
   "source": [
    "## Function for allocating array to host all image sub-arrays into it\n",
    "\n",
    "def allocate_image_space(nimages, image_size):\n",
    "  if nimages > 0:\n",
    "    dataset = np.ndarray((nimages, image_size, image_size), dtype=np.float32)\n",
    "    labels = np.ndarray(nimages, dtype=np.int32)\n",
    "  else:\n",
    "    dataset, labels = None, None\n",
    "  return dataset, labels"
   ]
  },
  {
   "cell_type": "code",
   "execution_count": 29,
   "metadata": {
    "collapsed": false
   },
   "outputs": [],
   "source": [
    "## Function for merging letter images into greater arrays to create train, validation and test sets\n",
    "\n",
    "def merge_images(pickle_files, image_size, ntrain, nvalidation=0):\n",
    "  train_dataset, train_labels = allocate_image_space(ntrain, image_size)\n",
    "  validation_dataset, validation_labels = allocate_image_space(nvalidation, image_size)\n",
    "\n",
    "  nclasses = len(pickle_files)\n",
    "  ntrain_per_class = ntrain//nclasses\n",
    "  nvalidation_per_class = nvalidation//nclasses\n",
    "  total_per_class = ntrain_per_class+nvalidation_per_class\n",
    "  train_start, validation_start = 0, 0\n",
    "  train_end, validation_end = ntrain_per_class, nvalidation_per_class\n",
    "\n",
    "  for label, pickle_file in enumerate(pickle_files):       \n",
    "    try:\n",
    "      with open(pickle_file, 'rb') as f:\n",
    "        letter_data = pickle.load(f)\n",
    "        \n",
    "        # Shuffle the letters to have random training and validation set\n",
    "        np.random.shuffle(letter_data)\n",
    "\n",
    "        train_dataset[train_start:train_end, :, :] = letter_data[:ntrain_per_class, :, :]\n",
    "        train_labels[train_start:train_end] = label\n",
    "        train_start += ntrain_per_class\n",
    "        train_end += ntrain_per_class\n",
    "        \n",
    "        if validation_dataset is not None:\n",
    "          validation_dataset[validation_start:validation_end, :, :] = \\\n",
    "            letter_data[ntrain_per_class:total_per_class, :, :]\n",
    "          validation_labels[validation_start:validation_end] = label\n",
    "          validation_start += nvalidation_per_class\n",
    "          validation_end += nvalidation_per_class\n",
    "\n",
    "    except Exception as e:\n",
    "      print('Unable to process data from', pickle_file, ':', e)\n",
    "      raise\n",
    "        \n",
    "  return train_dataset, train_labels, validation_dataset, validation_labels"
   ]
  },
  {
   "cell_type": "code",
   "execution_count": 30,
   "metadata": {
    "collapsed": true
   },
   "outputs": [],
   "source": [
    "## Set number of train, validation and test images\n",
    "\n",
    "ntrain = 200000\n",
    "nvalidation = 10000\n",
    "ntest = 10000"
   ]
  },
  {
   "cell_type": "code",
   "execution_count": 31,
   "metadata": {
    "collapsed": false
   },
   "outputs": [],
   "source": [
    "## Generate train and validation datasets\n",
    "\n",
    "train_dataset, train_labels, validation_dataset, validation_labels = \\\n",
    "  merge_images(train_files, 28, ntrain, nvalidation)"
   ]
  },
  {
   "cell_type": "code",
   "execution_count": 32,
   "metadata": {
    "collapsed": false
   },
   "outputs": [],
   "source": [
    "## Generate test dataset\n",
    "\n",
    "test_dataset, test_labels, _, _ = merge_images(test_files, 28, ntest)"
   ]
  },
  {
   "cell_type": "code",
   "execution_count": 33,
   "metadata": {
    "collapsed": false
   },
   "outputs": [
    {
     "name": "stdout",
     "output_type": "stream",
     "text": [
      "('Training:', (200000, 28, 28), (200000,))\n",
      "('Validation:', (10000, 28, 28), (10000,))\n",
      "('Testing:', (10000, 28, 28), (10000,))\n"
     ]
    }
   ],
   "source": [
    "## Show dimensions of train, validation and test datasets\n",
    "\n",
    "print('Training:', train_dataset.shape, train_labels.shape)\n",
    "print('Validation:', validation_dataset.shape, validation_labels.shape)\n",
    "print('Testing:', test_dataset.shape, test_labels.shape)"
   ]
  },
  {
   "cell_type": "code",
   "execution_count": 34,
   "metadata": {
    "collapsed": false
   },
   "outputs": [],
   "source": [
    "## Function for shuffling image datasets\n",
    "\n",
    "def randomize(dataset, labels):\n",
    "  permutation = np.random.permutation(labels.shape[0])\n",
    "  shuffled_dataset = dataset[permutation, :, :]\n",
    "  shuffled_labels = labels[permutation]\n",
    "  return shuffled_dataset, shuffled_labels"
   ]
  },
  {
   "cell_type": "code",
   "execution_count": 35,
   "metadata": {
    "collapsed": true
   },
   "outputs": [],
   "source": [
    "## Shuffle train, validation and test datasets\n",
    "\n",
    "train_dataset, train_labels = randomize(train_dataset, train_labels)\n",
    "validation_dataset, validation_labels = randomize(validation_dataset, validation_labels)\n",
    "test_dataset, test_labels = randomize(test_dataset, test_labels)"
   ]
  }
 ],
 "metadata": {
  "kernelspec": {
   "display_name": "Python 2",
   "language": "python",
   "name": "python2"
  },
  "language_info": {
   "codemirror_mode": {
    "name": "ipython",
    "version": 2
   },
   "file_extension": ".py",
   "mimetype": "text/x-python",
   "name": "python",
   "nbconvert_exporter": "python",
   "pygments_lexer": "ipython2",
   "version": "2.7.12"
  }
 },
 "nbformat": 4,
 "nbformat_minor": 0
}
