{
 "cells": [
  {
   "cell_type": "code",
   "execution_count": 1,
   "metadata": {
    "collapsed": true
   },
   "outputs": [],
   "source": [
    "### Load packages\n",
    "\n",
    "%matplotlib inline\n",
    "\n",
    "from IPython.display import display, Image\n",
    "import PIL\n",
    "import matplotlib.pyplot as plt\n",
    "import matplotlib.gridspec as gridspec\n",
    "import numpy as np\n",
    "import os\n",
    "from scipy import ndimage\n",
    "from six.moves.urllib.request import urlretrieve\n",
    "from six.moves import cPickle as pickle\n",
    "from sklearn.linear_model import LogisticRegression\n",
    "import sys\n",
    "import tarfile"
   ]
  },
  {
   "cell_type": "code",
   "execution_count": 2,
   "metadata": {
    "collapsed": true
   },
   "outputs": [],
   "source": [
    "### Define environment variables\n",
    "\n",
    "HOMEDIR = os.environ[\"HOME\"]\n",
    "\n",
    "BASEDIR = os.path.join(HOMEDIR, \"workspace\", \"self_education\", \"udacity\", \"TensorFlowUdacity\")\n",
    "\n",
    "DATADIR = os.path.join(BASEDIR, \"data\")\n",
    "ORIGINALDATADIR = os.path.join(DATADIR, \"notmnist\", \"original\")\n",
    "SANITIZEDDATADIR = os.path.join(DATADIR, \"notmnist\", \"sanitized\")\n",
    "\n",
    "NOTMNISTLARGEDIR = os.path.join(ORIGINALDATADIR, \"notmnist_large\")\n",
    "NOTMNISTSMALLDIR = os.path.join(ORIGINALDATADIR, \"notmnist_small\")\n",
    "\n",
    "ORIGINALDATAFILE = os.path.join(ORIGINALDATADIR, 'notmnist.pickle')\n",
    "SANITIZEDDATAFILE = os.path.join(SANITIZEDDATADIR, 'notmnist.pickle')"
   ]
  },
  {
   "cell_type": "code",
   "execution_count": 3,
   "metadata": {
    "collapsed": true
   },
   "outputs": [],
   "source": [
    "### Functions for getting array of directory paths and array of file paths\n",
    "\n",
    "def get_dir_paths(root):\n",
    "  return [os.path.join(root, n) \n",
    "    for n in sorted(os.listdir(root))\n",
    "    if os.path.isdir(os.path.join(root, n))\n",
    "  ]\n",
    "\n",
    "def get_file_paths(root):\n",
    "  return [os.path.join(root, n)\n",
    "    for n in sorted(os.listdir(root))\n",
    "    if os.path.isfile(os.path.join(root, n))\n",
    "  ]"
   ]
  },
  {
   "cell_type": "code",
   "execution_count": 4,
   "metadata": {
    "collapsed": false
   },
   "outputs": [],
   "source": [
    "### Get directory and file paths of training and test sets\n",
    "\n",
    "train_data_paths = get_dir_paths(NOTMNISTLARGEDIR)\n",
    "test_data_paths = get_dir_paths(NOTMNISTSMALLDIR)"
   ]
  },
  {
   "cell_type": "markdown",
   "metadata": {
    "collapsed": false
   },
   "source": [
    "### Problem 1"
   ]
  },
  {
   "cell_type": "code",
   "execution_count": 5,
   "metadata": {
    "collapsed": false
   },
   "outputs": [
    {
     "data": {
      "image/png": "[encoded data removed]",
      "text/plain": [
       "<IPython.core.display.Image object>"
      ]
     },
     "metadata": {},
     "output_type": "display_data"
    },
    {
     "data": {
      "image/png": "[encoded data removed]",
      "text/plain": [
       "<IPython.core.display.Image object>"
      ]
     },
     "metadata": {},
     "output_type": "display_data"
    },
    {
     "data": {
      "image/png": "[encoded data removed]",
      "text/plain": [
       "<IPython.core.display.Image object>"
      ]
     },
     "metadata": {},
     "output_type": "display_data"
    },
    {
     "data": {
      "image/png": "[encoded data removed]",
      "text/plain": [
       "<IPython.core.display.Image object>"
      ]
     },
     "metadata": {},
     "output_type": "display_data"
    },
    {
     "data": {
      "image/png": "[encoded data removed]",
      "text/plain": [
       "<IPython.core.display.Image object>"
      ]
     },
     "metadata": {},
     "output_type": "display_data"
    }
   ],
   "source": [
    "## Display a sample of 5 images in their initial png format\n",
    "\n",
    "nsamples = 5\n",
    "\n",
    "for i in np.arange(nsamples):\n",
    "  display(Image(filename=np.random.choice(get_file_paths(np.random.choice(test_data_paths)))))"
   ]
  },
  {
   "cell_type": "code",
   "execution_count": 6,
   "metadata": {
    "collapsed": true
   },
   "outputs": [],
   "source": [
    "## Set image properties\n",
    "\n",
    "image_size = 28 # Pixel width and height\n",
    "pixel_depth = 255.0  # Number of levels per pixel"
   ]
  },
  {
   "cell_type": "code",
   "execution_count": 7,
   "metadata": {
    "collapsed": false
   },
   "outputs": [],
   "source": [
    "## Read a sample image\n",
    "\n",
    "image_file = np.random.choice(get_file_paths(np.random.choice(test_data_paths)))\n",
    "image_data = ndimage.imread(image_file).astype(float)"
   ]
  },
  {
   "cell_type": "code",
   "execution_count": 8,
   "metadata": {
    "collapsed": false
   },
   "outputs": [
    {
     "data": {
      "text/plain": [
       "numpy.ndarray"
      ]
     },
     "execution_count": 8,
     "metadata": {},
     "output_type": "execute_result"
    }
   ],
   "source": [
    "## Show type of image object\n",
    "\n",
    "type(image_data)"
   ]
  },
  {
   "cell_type": "code",
   "execution_count": 9,
   "metadata": {
    "collapsed": false
   },
   "outputs": [
    {
     "data": {
      "text/plain": [
       "(28, 28)"
      ]
     },
     "execution_count": 9,
     "metadata": {},
     "output_type": "execute_result"
    }
   ],
   "source": [
    "## Show dimensions of image object\n",
    "\n",
    "image_data.shape"
   ]
  },
  {
   "cell_type": "code",
   "execution_count": 10,
   "metadata": {
    "collapsed": false
   },
   "outputs": [
    {
     "data": {
      "image/png": "[encoded data removed]",
      "text/plain": [
       "<matplotlib.figure.Figure at 0x11106de90>"
      ]
     },
     "metadata": {},
     "output_type": "display_data"
    }
   ],
   "source": [
    "## Plot image using imshow\n",
    "\n",
    "plt.imshow(image_data)\n",
    "plt.show()\n",
    "# display(Image(image_data))"
   ]
  },
  {
   "cell_type": "code",
   "execution_count": 11,
   "metadata": {
    "collapsed": false
   },
   "outputs": [
    {
     "data": {
      "image/png": "[encoded data removed]",
      "text/plain": [
       "<matplotlib.figure.Figure at 0x11106d750>"
      ]
     },
     "metadata": {},
     "output_type": "display_data"
    }
   ],
   "source": [
    "## Plot image using a scatterplot\n",
    "\n",
    "colors = [str(i/pixel_depth) for i in np.ravel(image_data)]\n",
    "plt.scatter(\n",
    "  np.tile(np.arange(image_size), image_size),\n",
    "  np.repeat(np.flipud(np.arange(image_size)), image_size),\n",
    "  s=150,\n",
    "  c=colors,\n",
    "  marker='s'\n",
    ")\n",
    "plt.show()"
   ]
  },
  {
   "cell_type": "code",
   "execution_count": 12,
   "metadata": {
    "collapsed": false
   },
   "outputs": [
    {
     "data": {
      "image/png": "[encoded data removed]",
      "text/plain": [
       "<matplotlib.figure.Figure at 0x11106db50>"
      ]
     },
     "metadata": {},
     "output_type": "display_data"
    }
   ],
   "source": [
    "## Plot image using a scatterplot by setting cmap option\n",
    "\n",
    "colors = [str(i/pixel_depth) for i in np.ravel(image_data)]\n",
    "plt.scatter(\n",
    "  np.tile(np.arange(image_size), image_size),\n",
    "  np.repeat(np.flipud(np.arange(image_size)), image_size),\n",
    "  s=150,\n",
    "  c=colors,\n",
    "  marker='s',\n",
    "  cmap=plt.cm.winter\n",
    ")\n",
    "plt.show()"
   ]
  },
  {
   "cell_type": "code",
   "execution_count": 13,
   "metadata": {
    "collapsed": true
   },
   "outputs": [],
   "source": [
    "## Functions for normalizing and retrieving images\n",
    "\n",
    "# Normalize image by pixel depth\n",
    "def normalize_image(image, pixel_depth):\n",
    "  return (ndimage.imread(image).astype(float)-pixel_depth/2)/pixel_depth\n",
    "\n",
    "# Retrieve original image from normalized image\n",
    "def unnormalize_image(image, pixel_depth):\n",
    "  return (pixel_depth*image+pixel_depth/2).astype(np.uint8)"
   ]
  },
  {
   "cell_type": "code",
   "execution_count": 14,
   "metadata": {
    "collapsed": false
   },
   "outputs": [],
   "source": [
    "## Function for loading data for a single letter\n",
    "\n",
    "def load_letter(root, image_size, pixel_depth, verbose=True, min_nimages=1):\n",
    "  \"\"\"Load data for a single letter.\"\"\"\n",
    "\n",
    "  if verbose:\n",
    "    print(root)\n",
    "\n",
    "  image_files = get_file_paths(root)\n",
    "  dataset = np.ndarray(shape=(len(image_files), image_size, image_size), dtype=np.float32)\n",
    "\n",
    "  image_index = 0\n",
    "  for image in image_files:\n",
    "    try:\n",
    "      image_data = normalize_image(image, pixel_depth)\n",
    "      if image_data.shape != (image_size, image_size):\n",
    "        raise Exception('Unexpected image shape: %s' % str(image_data.shape))\n",
    "      dataset[image_index, :, :] = image_data\n",
    "      image_index += 1\n",
    "    except IOError as e:\n",
    "      print('Skipping because of not being able to read: ', image_file)\n",
    "\n",
    "  dataset = dataset[0:image_index, :, :]\n",
    "  if image_index < min_nimages:\n",
    "    raise Exception('Fewer images than expected: %d < %d' % (image_index, min_nimages))\n",
    "\n",
    "  if verbose:    \n",
    "    print('Full dataset tensor: ', dataset.shape)\n",
    "    print('Mean: ', np.mean(dataset))\n",
    "    print('Standard deviation: ', np.std(dataset))\n",
    "\n",
    "  return dataset"
   ]
  },
  {
   "cell_type": "code",
   "execution_count": 15,
   "metadata": {
    "collapsed": false
   },
   "outputs": [
    {
     "name": "stdout",
     "output_type": "stream",
     "text": [
      "/Users/theodore/workspace/self_education/udacity/TensorFlowUdacity/data/notmnist/original/notmnist_small/C\n",
      "('Full dataset tensor: ', (1873, 28, 28))\n",
      "('Mean: ', -0.14152053)\n",
      "('Standard deviation: ', 0.44269028)\n"
     ]
    }
   ],
   "source": [
    "## Test load_letter() function by loading data for letter C\n",
    "\n",
    "letter_data = load_letter(test_data_paths[2], image_size, pixel_depth)"
   ]
  },
  {
   "cell_type": "code",
   "execution_count": 16,
   "metadata": {
    "collapsed": false
   },
   "outputs": [
    {
     "data": {
      "text/plain": [
       "(1873, 28, 28)"
      ]
     },
     "execution_count": 16,
     "metadata": {},
     "output_type": "execute_result"
    }
   ],
   "source": [
    "## Show dimensions of loaded data for letter C\n",
    "\n",
    "letter_data.shape"
   ]
  },
  {
   "cell_type": "code",
   "execution_count": 17,
   "metadata": {
    "collapsed": false
   },
   "outputs": [
    {
     "data": {
      "text/plain": [
       "(28, 28)"
      ]
     },
     "execution_count": 17,
     "metadata": {},
     "output_type": "execute_result"
    }
   ],
   "source": [
    "## Show dimensions of data for the first image of letter C\n",
    "\n",
    "letter_data[0, :, :].shape"
   ]
  },
  {
   "cell_type": "code",
   "execution_count": 18,
   "metadata": {
    "collapsed": true
   },
   "outputs": [],
   "source": [
    "## Function for generating pickle filenames\n",
    "\n",
    "def generate_pickle_names(root):\n",
    "  dataset_files = []\n",
    "\n",
    "  for d in root:\n",
    "    pickle_file = d + '.pickle'\n",
    "    dataset_files.append(pickle_file)\n",
    "  \n",
    "  return dataset_files"
   ]
  },
  {
   "cell_type": "code",
   "execution_count": 19,
   "metadata": {
    "collapsed": false
   },
   "outputs": [],
   "source": [
    "## Function for pickling data of all letters\n",
    "\n",
    "def pickle_letters(root, image_size, pixel_depth, verbose=True, min_nimages=1, force=False):\n",
    "  pickle_files = generate_pickle_names(root)\n",
    "  n = len(root)\n",
    "    \n",
    "  for i in np.arange(n):\n",
    "    if os.path.exists(pickle_files[i]) and not force:\n",
    "      print('%s already present, skipping pickling' % pickle_files[i])\n",
    "    else:\n",
    "      print('Pickling %s' % pickle_files[i])\n",
    "      dataset = \\\n",
    "        load_letter(root[i], image_size, pixel_depth, verbose=verbose, min_nimages=min_nimages)\n",
    "      try:\n",
    "        with open(pickle_files[i], 'wb') as f:\n",
    "          pickle.dump(dataset, f, pickle.HIGHEST_PROTOCOL)\n",
    "      except Exception as e:\n",
    "        print('Unable to save data to', pickle_files[i], ':', e)\n",
    "  \n",
    "  return pickle_files"
   ]
  },
  {
   "cell_type": "code",
   "execution_count": 20,
   "metadata": {
    "collapsed": false
   },
   "outputs": [
    {
     "name": "stdout",
     "output_type": "stream",
     "text": [
      "/Users/theodore/workspace/self_education/udacity/TensorFlowUdacity/data/notmnist/original/notmnist_large/A.pickle already present, skipping pickling\n",
      "/Users/theodore/workspace/self_education/udacity/TensorFlowUdacity/data/notmnist/original/notmnist_large/B.pickle already present, skipping pickling\n",
      "/Users/theodore/workspace/self_education/udacity/TensorFlowUdacity/data/notmnist/original/notmnist_large/C.pickle already present, skipping pickling\n",
      "/Users/theodore/workspace/self_education/udacity/TensorFlowUdacity/data/notmnist/original/notmnist_large/D.pickle already present, skipping pickling\n",
      "/Users/theodore/workspace/self_education/udacity/TensorFlowUdacity/data/notmnist/original/notmnist_large/E.pickle already present, skipping pickling\n",
      "/Users/theodore/workspace/self_education/udacity/TensorFlowUdacity/data/notmnist/original/notmnist_large/F.pickle already present, skipping pickling\n",
      "/Users/theodore/workspace/self_education/udacity/TensorFlowUdacity/data/notmnist/original/notmnist_large/G.pickle already present, skipping pickling\n",
      "/Users/theodore/workspace/self_education/udacity/TensorFlowUdacity/data/notmnist/original/notmnist_large/H.pickle already present, skipping pickling\n",
      "/Users/theodore/workspace/self_education/udacity/TensorFlowUdacity/data/notmnist/original/notmnist_large/I.pickle already present, skipping pickling\n",
      "/Users/theodore/workspace/self_education/udacity/TensorFlowUdacity/data/notmnist/original/notmnist_large/J.pickle already present, skipping pickling\n"
     ]
    }
   ],
   "source": [
    "### Pickle training set\n",
    "\n",
    "train_files = pickle_letters(train_data_paths, image_size, pixel_depth)"
   ]
  },
  {
   "cell_type": "code",
   "execution_count": 21,
   "metadata": {
    "collapsed": false
   },
   "outputs": [
    {
     "name": "stdout",
     "output_type": "stream",
     "text": [
      "/Users/theodore/workspace/self_education/udacity/TensorFlowUdacity/data/notmnist/original/notmnist_small/A.pickle already present, skipping pickling\n",
      "/Users/theodore/workspace/self_education/udacity/TensorFlowUdacity/data/notmnist/original/notmnist_small/B.pickle already present, skipping pickling\n",
      "/Users/theodore/workspace/self_education/udacity/TensorFlowUdacity/data/notmnist/original/notmnist_small/C.pickle already present, skipping pickling\n",
      "/Users/theodore/workspace/self_education/udacity/TensorFlowUdacity/data/notmnist/original/notmnist_small/D.pickle already present, skipping pickling\n",
      "/Users/theodore/workspace/self_education/udacity/TensorFlowUdacity/data/notmnist/original/notmnist_small/E.pickle already present, skipping pickling\n",
      "/Users/theodore/workspace/self_education/udacity/TensorFlowUdacity/data/notmnist/original/notmnist_small/F.pickle already present, skipping pickling\n",
      "/Users/theodore/workspace/self_education/udacity/TensorFlowUdacity/data/notmnist/original/notmnist_small/G.pickle already present, skipping pickling\n",
      "/Users/theodore/workspace/self_education/udacity/TensorFlowUdacity/data/notmnist/original/notmnist_small/H.pickle already present, skipping pickling\n",
      "/Users/theodore/workspace/self_education/udacity/TensorFlowUdacity/data/notmnist/original/notmnist_small/I.pickle already present, skipping pickling\n",
      "/Users/theodore/workspace/self_education/udacity/TensorFlowUdacity/data/notmnist/original/notmnist_small/J.pickle already present, skipping pickling\n"
     ]
    }
   ],
   "source": [
    "### Pickle test set\n",
    "\n",
    "test_files = pickle_letters(test_data_paths, image_size, pixel_depth)"
   ]
  },
  {
   "cell_type": "markdown",
   "metadata": {
    "collapsed": true
   },
   "source": [
    "### Problem 2"
   ]
  },
  {
   "cell_type": "code",
   "execution_count": 22,
   "metadata": {
    "collapsed": false
   },
   "outputs": [],
   "source": [
    "## Test pickling by loading pickle for letter D\n",
    "\n",
    "letter_data = np.load(os.path.join(NOTMNISTLARGEDIR, \"D.pickle\"))"
   ]
  },
  {
   "cell_type": "code",
   "execution_count": 23,
   "metadata": {
    "collapsed": false
   },
   "outputs": [
    {
     "data": {
      "text/plain": [
       "(52911, 28, 28)"
      ]
     },
     "execution_count": 23,
     "metadata": {},
     "output_type": "execute_result"
    }
   ],
   "source": [
    "## Show dimensions of data loaded from pickle of letter D\n",
    "\n",
    "letter_data.shape"
   ]
  },
  {
   "cell_type": "code",
   "execution_count": 24,
   "metadata": {
    "collapsed": false
   },
   "outputs": [
    {
     "data": {
      "image/png": "[encoded data removed]",
      "text/plain": [
       "<matplotlib.figure.Figure at 0x114b6c550>"
      ]
     },
     "metadata": {},
     "output_type": "display_data"
    }
   ],
   "source": [
    "## Plot fifth image of letter D from loaded pickle using imshow\n",
    "\n",
    "plt.imshow(letter_data[4, :, :])\n",
    "plt.show()"
   ]
  },
  {
   "cell_type": "markdown",
   "metadata": {
    "collapsed": true
   },
   "source": [
    "### Problem 3"
   ]
  },
  {
   "cell_type": "code",
   "execution_count": 25,
   "metadata": {
    "collapsed": false
   },
   "outputs": [
    {
     "data": {
      "text/plain": [
       "array([52909, 52911, 52912, 52911, 52912, 52912, 52912, 52912, 52912, 52911])"
      ]
     },
     "execution_count": 25,
     "metadata": {},
     "output_type": "execute_result"
    }
   ],
   "source": [
    "## Check if training sets are balanced across letter classes using absolute frequencies\n",
    "\n",
    "ntrainsets = len(train_data_paths)\n",
    "\n",
    "train_stats = np.empty(shape=ntrainsets, dtype=np.int64)\n",
    "\n",
    "for i in np.arange(ntrainsets):\n",
    "  letter_data = np.load(\".\".join([train_data_paths[i], \"pickle\"]))\n",
    "  train_stats[i] = letter_data.shape[0]\n",
    "\n",
    "train_stats"
   ]
  },
  {
   "cell_type": "code",
   "execution_count": 26,
   "metadata": {
    "collapsed": false
   },
   "outputs": [
    {
     "data": {
      "text/plain": [
       "array([  9.99954641,   9.9999244 ,  10.0001134 ,   9.9999244 ,\n",
       "        10.0001134 ,  10.0001134 ,  10.0001134 ,  10.0001134 ,\n",
       "        10.0001134 ,   9.9999244 ])"
      ]
     },
     "execution_count": 26,
     "metadata": {},
     "output_type": "execute_result"
    }
   ],
   "source": [
    "## Check if training sets are balanced across letter classes using percentages\n",
    "\n",
    "train_stats_perc = 100*train_stats/np.float32(sum(train_stats))\n",
    "\n",
    "train_stats_perc"
   ]
  },
  {
   "cell_type": "code",
   "execution_count": 27,
   "metadata": {
    "collapsed": false
   },
   "outputs": [
    {
     "data": {
      "text/plain": [
       "array([1872, 1873, 1873, 1873, 1873, 1872, 1872, 1872, 1872, 1872])"
      ]
     },
     "execution_count": 27,
     "metadata": {},
     "output_type": "execute_result"
    }
   ],
   "source": [
    "## Check if test sets are balanced across letter classes using absolute frequencies\n",
    "\n",
    "ntestsets = len(test_data_paths)\n",
    "\n",
    "test_stats = np.empty(shape=ntestsets, dtype=np.int64)\n",
    "\n",
    "for i in np.arange(ntrainsets):\n",
    "  letter_data = np.load(\".\".join([test_data_paths[i], \"pickle\"]))\n",
    "  test_stats[i] = letter_data.shape[0]\n",
    "\n",
    "test_stats"
   ]
  },
  {
   "cell_type": "code",
   "execution_count": 28,
   "metadata": {
    "collapsed": false
   },
   "outputs": [
    {
     "data": {
      "text/plain": [
       "array([  9.9978637 ,  10.00320444,  10.00320444,  10.00320444,\n",
       "        10.00320444,   9.9978637 ,   9.9978637 ,   9.9978637 ,\n",
       "         9.9978637 ,   9.9978637 ])"
      ]
     },
     "execution_count": 28,
     "metadata": {},
     "output_type": "execute_result"
    }
   ],
   "source": [
    "## Check if test sets are balanced across letter classes using percentages\n",
    "\n",
    "test_stats_perc = 100*test_stats/np.float32(sum(test_stats))\n",
    "\n",
    "test_stats_perc"
   ]
  },
  {
   "cell_type": "code",
   "execution_count": 29,
   "metadata": {
    "collapsed": true
   },
   "outputs": [],
   "source": [
    "## Function for allocating array to host all image sub-arrays into it\n",
    "\n",
    "def allocate_image_space(nimages, image_size):\n",
    "  if nimages > 0:\n",
    "    dataset = np.ndarray((nimages, image_size, image_size), dtype=np.float32)\n",
    "    labels = np.ndarray(nimages, dtype=np.int32)\n",
    "  else:\n",
    "    dataset, labels = None, None\n",
    "  return dataset, labels"
   ]
  },
  {
   "cell_type": "code",
   "execution_count": 30,
   "metadata": {
    "collapsed": false
   },
   "outputs": [],
   "source": [
    "## Function for merging letter images to create train, validation and test sets\n",
    "\n",
    "def merge_images(pickle_files, image_size, ntrain, nvalidation=0):\n",
    "  train_dataset, train_labels = allocate_image_space(ntrain, image_size)\n",
    "  validation_dataset, validation_labels = allocate_image_space(nvalidation, image_size)\n",
    "\n",
    "  nclasses = len(pickle_files)\n",
    "  ntrain_per_class = ntrain//nclasses\n",
    "  nvalidation_per_class = nvalidation//nclasses\n",
    "  total_per_class = ntrain_per_class+nvalidation_per_class\n",
    "  train_start, validation_start = 0, 0\n",
    "  train_end, validation_end = ntrain_per_class, nvalidation_per_class\n",
    "\n",
    "  for label, pickle_file in enumerate(pickle_files):       \n",
    "    try:\n",
    "      with open(pickle_file, 'rb') as f:\n",
    "        letter_data = pickle.load(f)\n",
    "        \n",
    "        # Shuffle the letters to have random training and validation set\n",
    "        np.random.shuffle(letter_data)\n",
    "\n",
    "        train_dataset[train_start:train_end, :, :] = letter_data[:ntrain_per_class, :, :]\n",
    "        train_labels[train_start:train_end] = label\n",
    "        train_start += ntrain_per_class\n",
    "        train_end += ntrain_per_class\n",
    "        \n",
    "        if validation_dataset is not None:\n",
    "          validation_dataset[validation_start:validation_end, :, :] = \\\n",
    "            letter_data[ntrain_per_class:total_per_class, :, :]\n",
    "          validation_labels[validation_start:validation_end] = label\n",
    "          validation_start += nvalidation_per_class\n",
    "          validation_end += nvalidation_per_class\n",
    "\n",
    "    except Exception as e:\n",
    "      print('Unable to process data from', pickle_file, ':', e)\n",
    "      raise\n",
    "        \n",
    "  return train_dataset, train_labels, validation_dataset, validation_labels"
   ]
  },
  {
   "cell_type": "code",
   "execution_count": 31,
   "metadata": {
    "collapsed": true
   },
   "outputs": [],
   "source": [
    "## Set number of train, validation and test images\n",
    "\n",
    "ntrain = 200000\n",
    "nvalidation = 10000\n",
    "ntest = 10000"
   ]
  },
  {
   "cell_type": "code",
   "execution_count": 32,
   "metadata": {
    "collapsed": false
   },
   "outputs": [],
   "source": [
    "## Generate train and validation datasets\n",
    "\n",
    "train_dataset, train_labels, validation_dataset, validation_labels = \\\n",
    "  merge_images(train_files, 28, ntrain, nvalidation)"
   ]
  },
  {
   "cell_type": "code",
   "execution_count": 33,
   "metadata": {
    "collapsed": false
   },
   "outputs": [],
   "source": [
    "## Generate test dataset\n",
    "\n",
    "test_dataset, test_labels, _, _ = merge_images(test_files, 28, ntest)"
   ]
  },
  {
   "cell_type": "code",
   "execution_count": 34,
   "metadata": {
    "collapsed": false
   },
   "outputs": [
    {
     "name": "stdout",
     "output_type": "stream",
     "text": [
      "('Training: ', (200000, 28, 28), (200000,))\n",
      "('Validation: ', (10000, 28, 28), (10000,))\n",
      "('Testing: ', (10000, 28, 28), (10000,))\n"
     ]
    }
   ],
   "source": [
    "## Show dimensions of train, validation and test datasets\n",
    "\n",
    "print('Training: ', train_dataset.shape, train_labels.shape)\n",
    "print('Validation: ', validation_dataset.shape, validation_labels.shape)\n",
    "print('Testing: ', test_dataset.shape, test_labels.shape)"
   ]
  },
  {
   "cell_type": "code",
   "execution_count": 35,
   "metadata": {
    "collapsed": false
   },
   "outputs": [],
   "source": [
    "## Function for shuffling image datasets\n",
    "\n",
    "def randomize(dataset, labels):\n",
    "  permutation = np.random.permutation(labels.shape[0])\n",
    "  shuffled_dataset = dataset[permutation, :, :]\n",
    "  shuffled_labels = labels[permutation]\n",
    "  return shuffled_dataset, shuffled_labels"
   ]
  },
  {
   "cell_type": "code",
   "execution_count": 36,
   "metadata": {
    "collapsed": true
   },
   "outputs": [],
   "source": [
    "## Shuffle train, validation and test datasets\n",
    "\n",
    "train_dataset, train_labels = randomize(train_dataset, train_labels)\n",
    "validation_dataset, validation_labels = randomize(validation_dataset, validation_labels)\n",
    "test_dataset, test_labels = randomize(test_dataset, test_labels)"
   ]
  },
  {
   "cell_type": "markdown",
   "metadata": {},
   "source": [
    "### Problem 4"
   ]
  },
  {
   "cell_type": "code",
   "execution_count": 37,
   "metadata": {
    "collapsed": false
   },
   "outputs": [
    {
     "data": {
      "image/png": "[encoded data removed]",
      "text/plain": [
       "<matplotlib.figure.Figure at 0x114b8b2d0>"
      ]
     },
     "metadata": {},
     "output_type": "display_data"
    }
   ],
   "source": [
    "## Display a sample of 3 images in their initial png format\n",
    "\n",
    "samples = np.random.choice(3, 3, replace=False)\n",
    "\n",
    "fig = plt.figure()\n",
    "gs = gridspec.GridSpec(1, 3)\n",
    "fig.add_subplot(gs[0])\n",
    "plt.imshow(train_dataset[samples[0], :, :])\n",
    "fig.add_subplot(gs[1])\n",
    "plt.imshow(train_dataset[samples[1], :, :])\n",
    "fig.add_subplot(gs[2])\n",
    "plt.imshow(train_dataset[samples[2], :, :])\n",
    "plt.show()"
   ]
  },
  {
   "cell_type": "code",
   "execution_count": 38,
   "metadata": {
    "collapsed": false
   },
   "outputs": [
    {
     "data": {
      "text/plain": [
       "(array([0, 1, 2, 3, 4, 5, 6, 7, 8, 9], dtype=int32),\n",
       " array([20000, 20000, 20000, 20000, 20000, 20000, 20000, 20000, 20000, 20000]))"
      ]
     },
     "execution_count": 38,
     "metadata": {},
     "output_type": "execute_result"
    }
   ],
   "source": [
    "## Count number of letters per class in shuffled train dataset using labels\n",
    "\n",
    "np.unique(train_labels, return_counts=True)"
   ]
  },
  {
   "cell_type": "code",
   "execution_count": 39,
   "metadata": {
    "collapsed": false
   },
   "outputs": [
    {
     "data": {
      "text/plain": [
       "(array([0, 1, 2, 3, 4, 5, 6, 7, 8, 9], dtype=int32),\n",
       " array([1000, 1000, 1000, 1000, 1000, 1000, 1000, 1000, 1000, 1000]))"
      ]
     },
     "execution_count": 39,
     "metadata": {},
     "output_type": "execute_result"
    }
   ],
   "source": [
    "## Count number of letters per class in shuffled validation dataset using labels\n",
    "\n",
    "np.unique(validation_labels, return_counts=True)"
   ]
  },
  {
   "cell_type": "code",
   "execution_count": 40,
   "metadata": {
    "collapsed": false
   },
   "outputs": [
    {
     "data": {
      "text/plain": [
       "(array([0, 1, 2, 3, 4, 5, 6, 7, 8, 9], dtype=int32),\n",
       " array([1000, 1000, 1000, 1000, 1000, 1000, 1000, 1000, 1000, 1000]))"
      ]
     },
     "execution_count": 40,
     "metadata": {},
     "output_type": "execute_result"
    }
   ],
   "source": [
    "## Count number of letters per class in shuffled test dataset using labels\n",
    "\n",
    "np.unique(test_labels, return_counts=True)"
   ]
  },
  {
   "cell_type": "code",
   "execution_count": 41,
   "metadata": {
    "collapsed": true
   },
   "outputs": [],
   "source": [
    "## Function for saving an object to a pickle file\n",
    "\n",
    "def save_to_pickle(pickle_file, object, force=False):\n",
    "  if os.path.exists(pickle_file) and not force:\n",
    "    print('%s already present, skipping pickling' % pickle_file)\n",
    "  else:\n",
    "    try:\n",
    "      f = open(pickle_file, 'wb')\n",
    "      pickle.dump(object, f, pickle.HIGHEST_PROTOCOL)\n",
    "      f.close()\n",
    "    except Exception as e:\n",
    "      print('Unable to save object to', pickle_file, ':', e)\n",
    "      raise      "
   ]
  },
  {
   "cell_type": "code",
   "execution_count": 42,
   "metadata": {
    "collapsed": false
   },
   "outputs": [
    {
     "name": "stdout",
     "output_type": "stream",
     "text": [
      "/Users/theodore/workspace/self_education/udacity/TensorFlowUdacity/data/notmnist/original/notmnist.pickle already present, skipping pickling\n"
     ]
    }
   ],
   "source": [
    "## Save train, validation and test datasets to pickle file\n",
    "\n",
    "save_to_pickle(\n",
    "  ORIGINALDATAFILE,\n",
    "  {\n",
    "    'train_dataset': train_dataset,\n",
    "    'train_labels': train_labels,\n",
    "    'validation_dataset': validation_dataset,\n",
    "    'validation_labels': validation_labels,\n",
    "    'test_dataset': test_dataset,\n",
    "    'test_labels': test_labels,\n",
    "  }    \n",
    ")"
   ]
  },
  {
   "cell_type": "code",
   "execution_count": 43,
   "metadata": {
    "collapsed": false
   },
   "outputs": [
    {
     "name": "stdout",
     "output_type": "stream",
     "text": [
      "Compressed pickle size: 690800451\n"
     ]
    }
   ],
   "source": [
    "## Size of picle file containing train, validation and test datasets\n",
    "\n",
    "print('Compressed pickle size: %d' % os.stat(ORIGINALDATAFILE).st_size)"
   ]
  },
  {
   "cell_type": "markdown",
   "metadata": {},
   "source": [
    "### Problem 5"
   ]
  },
  {
   "cell_type": "markdown",
   "metadata": {},
   "source": [
    "To check whether two images are duplicates it suffices to check if their matrix representations are equal. The main limitation of this approach is that it only detecs exact duplicates. There are other methods for identifying near duplicates.\n",
    "\n",
    "There are two main classes of methods for detecting near duplicates among images. One of these two method classes is known as image fingerprinting or image hashing. The main idea of image hashing is to construct a unique numerical value, known as image hash, from the contents of the image. The hash plays the role of a fingerprint in the sense that it uniquely identifies its associated image. Images that are “similar” should have “similar” hashes.\n",
    "\n",
    "Another class of algorithms compares a pair of images by computing a metric of similarity based on the contents of both images. Various similarity metrics are used in practice, such as the mean squared error (MSE) or the structural similarity index (SSIM).\n",
    "\n",
    "In this notebook, near-duplicates are found using image hashing."
   ]
  },
  {
   "cell_type": "markdown",
   "metadata": {
    "collapsed": true
   },
   "source": [
    "#### Finding near-duplicates using image hashing"
   ]
  },
  {
   "cell_type": "markdown",
   "metadata": {},
   "source": [
    "##### Difference hashing (dHash) algorithm"
   ]
  },
  {
   "cell_type": "markdown",
   "metadata": {},
   "source": [
    "One potential approach to image hash creation is to make use of cryptographic hashing algorithms such as MD5 or SHA-1. However, if an image has been edited even slightly, the [avalance effect](https://en.wikipedia.org/wiki/Avalanche_effect) of the cryptographic algorithm would generate a hash for the slightly edited image very different from the hash of the original image.\n",
    "\n",
    "For this reason, alternative hashing algorithms are used for image hashing. In what follows, the difference hashing algorithm (dHash) will be presented. dHash computes the difference in brightness between adjacent pixels. It is a simple algorithm to implement. Its main steps are the following:\n",
    "1. Grayscale the image.\n",
    "2. Shrink the image.\n",
    "3. Compare the intensity values of adjacent pixels row-wise. Introduce a binary classification scheme to compare adjacent pixels; if the intensity value of the preceding pixel is higher than the intensity value of the succeeding pixel in the row, then label the difference between the two adjacent pixels as 1, otherwise as 0.\n",
    "4. Convert the resulting binary vector of ones and zeros to a hexadecimal string, which is the image hash."
   ]
  },
  {
   "cell_type": "code",
   "execution_count": 44,
   "metadata": {
    "collapsed": true
   },
   "outputs": [],
   "source": [
    "## Function for computing the difference hash (dHash) of an image\n",
    "\n",
    "# The input argument hsize is the hash size\n",
    "def image_dhash(image, hsize=8):\n",
    "  # Grayscale and shrink the image\n",
    "  icon = PIL.Image.fromarray(image).convert('L').resize((hsize+1, hsize), PIL.Image.ANTIALIAS)\n",
    "  icon = np.array(icon)\n",
    "\n",
    "  # Compare intensity values of adjacent pixels row-wise\n",
    "  diff = np.empty([hsize, hsize], dtype=np.bool_)\n",
    "  for row in np.arange(hsize):\n",
    "    for col in np.arange(hsize):\n",
    "      diff[row, col] = icon[row, col] > icon[row, col+1]\n",
    "\n",
    "  # Convert binary vector to hexadecimal string\n",
    "  hexadecimal = np.empty(hsize, dtype=np.dtype((bytes, hsize/4)))\n",
    "  for i in np.arange(hsize):\n",
    "    hexadecimal[i] = \\\n",
    "      hex(int(''.join(str(b) for b in np.flipud(diff[i, :].astype(int))), 2))[2:].rjust(2, '0')\n",
    "    \n",
    "  return ''.join(hexadecimal)"
   ]
  },
  {
   "cell_type": "code",
   "execution_count": 45,
   "metadata": {
    "collapsed": true
   },
   "outputs": [],
   "source": [
    "## Set hash size, which will be used for generate difference hashes of images\n",
    "\n",
    "hash_size = 8"
   ]
  },
  {
   "cell_type": "code",
   "execution_count": 46,
   "metadata": {
    "collapsed": false
   },
   "outputs": [],
   "source": [
    "## Compute difference hashes of images in the train dataset\n",
    "\n",
    "train_dhashes = np.empty(ntrain, dtype=np.dtype((bytes, (hash_size**2)/4)))\n",
    "\n",
    "for i in np.arange(ntrain):\n",
    "  train_dhashes[i] = image_dhash(unnormalize_image(train_dataset[i, :, :], pixel_depth))"
   ]
  },
  {
   "cell_type": "code",
   "execution_count": 47,
   "metadata": {
    "collapsed": true
   },
   "outputs": [],
   "source": [
    "## Compute difference hashes of images in the validation dataset\n",
    "\n",
    "validation_dhashes = np.empty(nvalidation, dtype=np.dtype((bytes, (hash_size**2)/4)))\n",
    "\n",
    "for i in np.arange(nvalidation):\n",
    "  validation_dhashes[i] = \\\n",
    "    image_dhash(unnormalize_image(validation_dataset[i, :, :], pixel_depth))"
   ]
  },
  {
   "cell_type": "code",
   "execution_count": 48,
   "metadata": {
    "collapsed": false
   },
   "outputs": [],
   "source": [
    "## Compute difference hashes of images in the test dataset\n",
    "\n",
    "test_dhashes = np.empty(ntest, dtype=np.dtype((bytes, (hash_size**2)/4)))\n",
    "\n",
    "for i in np.arange(ntest):\n",
    "  test_dhashes[i] = image_dhash(unnormalize_image(test_dataset[i, :, :], pixel_depth))"
   ]
  },
  {
   "cell_type": "markdown",
   "metadata": {},
   "source": [
    "##### Removing near-duplicates within each of train, validation and test dataset"
   ]
  },
  {
   "cell_type": "code",
   "execution_count": 49,
   "metadata": {
    "collapsed": false
   },
   "outputs": [
    {
     "name": "stdout",
     "output_type": "stream",
     "text": [
      "Number of images in train dataset: 200000\n",
      "Number of images in train dataset after excluding near-duplicates: 156007\n",
      "78.00% of images in train dataset kept\n"
     ]
    }
   ],
   "source": [
    "## Get locations of images in the train dataset after excluding near-duplicates\n",
    "\n",
    "unique_train_dhashes, unique_train_locations = np.unique(train_dhashes, return_index=True)\n",
    "\n",
    "print('Number of images in train dataset: %d' % ntrain)\n",
    "print(\n",
    "  'Number of images in train dataset after excluding near-duplicates: %d'\n",
    "  % np.size(unique_train_locations)\n",
    ")\n",
    "print(\n",
    "  '%.2f%% of images in train dataset kept' \n",
    "  % round(100*np.float32(np.size(unique_train_locations))/ntrain, 2)\n",
    ")"
   ]
  },
  {
   "cell_type": "code",
   "execution_count": 50,
   "metadata": {
    "collapsed": false
   },
   "outputs": [
    {
     "name": "stdout",
     "output_type": "stream",
     "text": [
      "Number of images in validation dataset: 10000\n",
      "Number of images in validation dataset after excluding near-duplicates: 9281\n",
      "92.81% of images in validation dataset kept\n"
     ]
    }
   ],
   "source": [
    "## Get locations of images in the validation dataset after excluding near-duplicates\n",
    "\n",
    "unique_validation_dhashes, unique_validation_locations = \\\n",
    "  np.unique(validation_dhashes, return_index=True)\n",
    "\n",
    "print('Number of images in validation dataset: %d' % nvalidation)\n",
    "print(\n",
    "  'Number of images in validation dataset after excluding near-duplicates: %d'\n",
    "  % np.size(unique_validation_locations)\n",
    ")\n",
    "print(\n",
    "  '%.2f%% of images in validation dataset kept' \n",
    "  % round(100*np.float32(np.size(unique_validation_locations))/nvalidation, 2)\n",
    ")"
   ]
  },
  {
   "cell_type": "code",
   "execution_count": 51,
   "metadata": {
    "collapsed": false
   },
   "outputs": [
    {
     "name": "stdout",
     "output_type": "stream",
     "text": [
      "Total number of images in test dataset: 10000\n",
      "Number of images in test dataset after excluding near-duplicates: 8983\n",
      "89.83% of images in test dataset kept\n"
     ]
    }
   ],
   "source": [
    "## Get locations of images in the test dataset after excluding near-duplicates\n",
    "\n",
    "unique_test_dhashes, unique_test_locations = np.unique(test_dhashes, return_index=True)\n",
    "\n",
    "print('Total number of images in test dataset: %d' % ntest)\n",
    "print(\n",
    "  'Number of images in test dataset after excluding near-duplicates: %d'\n",
    "  % np.size(unique_test_locations)\n",
    ")\n",
    "print(\n",
    "  '%.2f%% of images in test dataset kept' \n",
    "  % round(100*np.float32(np.size(unique_test_locations))/ntest, 2)\n",
    ")"
   ]
  },
  {
   "cell_type": "markdown",
   "metadata": {},
   "source": [
    "##### Removing near-duplicates between train, validation and test datasets"
   ]
  },
  {
   "cell_type": "code",
   "execution_count": 52,
   "metadata": {
    "collapsed": true
   },
   "outputs": [],
   "source": [
    "## Function for returning locations (array indices) of unique images between datasets\n",
    "## Uniqueness of images is defined on the basis of uniqueness of dHashes\n",
    "## The returned indices are a subset of scannedlocs\n",
    "## scannedlocs is a subset of baselocs\n",
    "\n",
    "def unique_image_crosslocations(scannedset, scannedlocs, baseset, baselocs):\n",
    "  indices = np.array([], dtype=np.int64)\n",
    "\n",
    "  for i in scannedlocs:\n",
    "    if scannedset[i] not in baseset[baselocs]:\n",
    "      indices = np.append(indices, i)\n",
    "\n",
    "  return indices"
   ]
  },
  {
   "cell_type": "code",
   "execution_count": 53,
   "metadata": {
    "collapsed": false
   },
   "outputs": [
    {
     "name": "stdout",
     "output_type": "stream",
     "text": [
      "Number of unique images within train dataset: 156007\n",
      "Number of unique images in train dataset not in test set: 153261\n",
      "98.24% of unique images in train dataset kept\n"
     ]
    }
   ],
   "source": [
    "## Get locations of images whose dHashes appear in train but not in test set\n",
    "\n",
    "unique_train_locations_vs_test = unique_image_crosslocations(\n",
    "  train_dhashes, unique_train_locations, test_dhashes, unique_test_locations\n",
    ")\n",
    "\n",
    "print(\n",
    "  'Number of unique images within train dataset: %d'\n",
    "  % np.size(unique_train_locations)\n",
    ")\n",
    "print(\n",
    "  'Number of unique images in train dataset not in test set: %d'\n",
    "  % np.size(unique_train_locations_vs_test)\n",
    ")\n",
    "print(\n",
    "  '%.2f%% of unique images in train dataset kept' \n",
    "  % round(\n",
    "    100*np.float32(np.size(unique_train_locations_vs_test))/\n",
    "      np.size(unique_train_locations),\n",
    "    2\n",
    "  )\n",
    ")"
   ]
  },
  {
   "cell_type": "code",
   "execution_count": 54,
   "metadata": {
    "collapsed": false
   },
   "outputs": [
    {
     "name": "stdout",
     "output_type": "stream",
     "text": [
      "Number of unique images in train set and not in test set: 153261\n",
      "Number of unique images in train set and not in test or validation set: 151262\n",
      "98.70% of unique images in train dataset kept\n",
      "75.63% of images from original train dataset kept\n"
     ]
    }
   ],
   "source": [
    "## Get locations of images whose dHashes appear in train only\n",
    "\n",
    "unique_train_locations_vs_validation = unique_image_crosslocations(\n",
    "  train_dhashes,\n",
    "  unique_train_locations_vs_test,\n",
    "  validation_dhashes,\n",
    "  unique_validation_locations\n",
    ")\n",
    "\n",
    "ntrain_sanitized = np.size(unique_train_locations_vs_validation)\n",
    "\n",
    "print(\n",
    "  'Number of unique images in train set and not in test set: %d'\n",
    "  % np.size(unique_train_locations_vs_test)\n",
    ")\n",
    "print(\n",
    "  'Number of unique images in train set and not in test or validation set: %d'\n",
    "  % ntrain_sanitized\n",
    ")\n",
    "print(\n",
    "  '%.2f%% of unique images in train dataset kept' \n",
    "  % round(\n",
    "    100*np.float32(ntrain_sanitized)/np.size(unique_train_locations_vs_test),\n",
    "    2\n",
    "  )\n",
    ")\n",
    "print(\n",
    "  '%.2f%% of images from original train dataset kept' \n",
    "  % round(100*np.float32(np.size(unique_train_locations_vs_validation))/ntrain, 2)\n",
    ")"
   ]
  },
  {
   "cell_type": "code",
   "execution_count": 55,
   "metadata": {
    "collapsed": false
   },
   "outputs": [
    {
     "name": "stdout",
     "output_type": "stream",
     "text": [
      "Number of unique images within validation dataset: 9281\n",
      "Number of unique images in validation set and not in test set: 8820\n",
      "95.03% of unique images in validation dataset kept\n",
      "88.20% of images from original validation dataset kept\n"
     ]
    }
   ],
   "source": [
    "## Get locations of images whose dHashes appear in validation but not in test set\n",
    "\n",
    "unique_validation_locations_vs_test = unique_image_crosslocations(\n",
    "  validation_dhashes,\n",
    "  unique_validation_locations,\n",
    "  test_dhashes,\n",
    "  unique_test_locations\n",
    ")\n",
    "\n",
    "nvalidation_sanitized = np.size(unique_validation_locations_vs_test)\n",
    "ntest_sanitized = np.size(unique_test_locations)\n",
    "\n",
    "print(\n",
    "  'Number of unique images within validation dataset: %d'\n",
    "  % np.size(unique_validation_locations)\n",
    ")\n",
    "print(\n",
    "  'Number of unique images in validation set and not in test set: %d'\n",
    "  % nvalidation_sanitized\n",
    ")\n",
    "print(\n",
    "  '%.2f%% of unique images in validation dataset kept' \n",
    "  % round(\n",
    "    100*np.float32(nvalidation_sanitized)/np.size(unique_validation_locations),\n",
    "    2\n",
    "  )\n",
    ")\n",
    "print(\n",
    "  '%.2f%% of images from original validation dataset kept' \n",
    "  % round(100*np.float32(nvalidation_sanitized)/nvalidation, 2)\n",
    ")"
   ]
  },
  {
   "cell_type": "code",
   "execution_count": 56,
   "metadata": {
    "collapsed": false
   },
   "outputs": [
    {
     "name": "stdout",
     "output_type": "stream",
     "text": [
      "Number of images in original train set: 200000\n",
      "Number of images in sanitized train set: 151262\n",
      "75.63% of images from original train set kept in sanitized train set\n",
      "\n",
      "\n",
      "Number of images in original validation set: 10000\n",
      "Number of images in sanitized validation set: 8820\n",
      "88.20% of images from original validation set kept in sanitized validation set\n",
      "\n",
      "\n",
      "Number of images in original test set: 10000\n",
      "Number of images in sanitized test set: 8983\n",
      "89.83% of images from original test set kept in sanitized test set\n"
     ]
    }
   ],
   "source": [
    "## Summary of number of images in sanitized datasets\n",
    "\n",
    "print('Number of images in original train set: %d' % ntrain)\n",
    "print('Number of images in sanitized train set: %d' % ntrain_sanitized)\n",
    "print(\n",
    "  '%.2f%% of images from original train set kept in sanitized train set' \n",
    "  % round(100*np.float32(ntrain_sanitized)/ntrain, 2)\n",
    ")\n",
    "\n",
    "print('\\n')\n",
    "\n",
    "print('Number of images in original validation set: %d' % nvalidation)\n",
    "print('Number of images in sanitized validation set: %d' % nvalidation_sanitized)\n",
    "print(\n",
    "  '%.2f%% of images from original validation set kept in sanitized validation set' \n",
    "  % round(100*np.float32(nvalidation_sanitized)/nvalidation, 2)\n",
    ")\n",
    "\n",
    "print('\\n')\n",
    "\n",
    "print('Number of images in original test set: %d' % ntest)\n",
    "print('Number of images in sanitized test set: %d' % ntest_sanitized)\n",
    "print(\n",
    "  '%.2f%% of images from original test set kept in sanitized test set' \n",
    "  % round(100*np.float32(ntest_sanitized)/ntest, 2)\n",
    ")"
   ]
  },
  {
   "cell_type": "markdown",
   "metadata": {},
   "source": [
    "##### Finding near-duplicates using Hamming distance"
   ]
  },
  {
   "cell_type": "markdown",
   "metadata": {},
   "source": [
    "The dHashes of two images can be compared by calculating the Hamming distance of the dHashes, which is the count of differing characters between the two dHashes. The closer the Hamming distance to 0, the more similar the two images.\n",
    "\n",
    "In what follows, a function for computing the Hamming distance of two dHashes of equal length and a function for finding the number of unique images between two datasets with respect to a given Hamming distance lower bound are provided for demonstration purposes. In practice, the sanitized datasets have been generated by keeping images with unique dHashes, which corresponds to the case of images whose pairwise dHashes have Hamming distance equal to the hash length (16). This choice was made for the sake of computational efficiency."
   ]
  },
  {
   "cell_type": "code",
   "execution_count": 57,
   "metadata": {
    "collapsed": true
   },
   "outputs": [],
   "source": [
    "## Return the Hamming distance between equal-length hashes\n",
    "\n",
    "def hamming_distance(h1, h2):\n",
    "  if len(h1) != len(h2):\n",
    "    raise ValueError(\"Undefined for hashes of unequal length\")\n",
    "\n",
    "  return sum(c1 != c2 for c1, c2 in zip(h1, h2))"
   ]
  },
  {
   "cell_type": "code",
   "execution_count": 58,
   "metadata": {
    "collapsed": false
   },
   "outputs": [],
   "source": [
    "## Function for returning locations (array indices) of unique images between datasets\n",
    "## Uniqueness of images is defined on the basis of a given Hamming distance lower bound\n",
    "## The returned indices are a subset of scannedlocs\n",
    "## scannedlocs is a subset of baselocs\n",
    "\n",
    "def unique_image_hamming_crosslocations(\n",
    "  scannedset, scannedlocs, baseset, baselocs, lb, monitor=None):\n",
    "  indices = np.array([], dtype=np.int64)\n",
    "\n",
    "  if monitor is not None:\n",
    "    k = 0\n",
    "    n = np.size(scannedlocs)\n",
    "    \n",
    "  for i in scannedlocs:\n",
    "    if monitor is not None:\n",
    "      k += 1\n",
    "      if k % monitor == 0:\n",
    "        print('%.2f%% completed' % round(100*np.float32(k)/n, 2))\n",
    "\n",
    "    u = True\n",
    "    \n",
    "    for j in baselocs:\n",
    "      if hamming_distance(scannedset[i], baseset[j]) < lb:\n",
    "        u = False\n",
    "        break\n",
    "\n",
    "    if u:\n",
    "      indices = np.append(indices, i)\n",
    "    \n",
    "  return indices"
   ]
  },
  {
   "cell_type": "code",
   "execution_count": 59,
   "metadata": {
    "collapsed": false
   },
   "outputs": [],
   "source": [
    "# unique_image_hamming_crosslocations(\n",
    "#   validation_dhashes,\n",
    "#   unique_validation_locations,\n",
    "#   test_dhashes,\n",
    "#   unique_test_locations,\n",
    "#   1,\n",
    "#   1000\n",
    "# )"
   ]
  },
  {
   "cell_type": "markdown",
   "metadata": {},
   "source": [
    "##### Store sanitized train, validation and test datasets"
   ]
  },
  {
   "cell_type": "code",
   "execution_count": 60,
   "metadata": {
    "collapsed": false
   },
   "outputs": [
    {
     "name": "stdout",
     "output_type": "stream",
     "text": [
      "/Users/theodore/workspace/self_education/udacity/TensorFlowUdacity/data/notmnist/sanitized/notmnist.pickle already present, skipping pickling\n"
     ]
    }
   ],
   "source": [
    "## Save sanitized train, validation and test datasets to pickle file\n",
    "\n",
    "save_to_pickle(\n",
    "  SANITIZEDDATAFILE,\n",
    "  {\n",
    "    'train_dataset': train_dataset[unique_train_locations_vs_validation, :, :],\n",
    "    'train_labels': train_labels[unique_train_locations_vs_validation],\n",
    "    'ntrain' : np.size(unique_train_locations_vs_validation),\n",
    "    'validation_dataset': validation_dataset[unique_validation_locations_vs_test, :, :],\n",
    "    'validation_labels': validation_labels[unique_validation_locations_vs_test],\n",
    "    'nvalidation': np.size(unique_validation_locations_vs_test),\n",
    "    'test_dataset': test_dataset[unique_test_locations, :, :],\n",
    "    'test_labels': test_labels[unique_test_locations],\n",
    "    'ntest' : np.size(unique_test_locations)\n",
    "  }    \n",
    ")"
   ]
  },
  {
   "cell_type": "code",
   "execution_count": 61,
   "metadata": {
    "collapsed": false
   },
   "outputs": [
    {
     "name": "stdout",
     "output_type": "stream",
     "text": [
      "Compressed pickle size: 530446976\n"
     ]
    }
   ],
   "source": [
    "## Size of picle file containing sanitized train, validation and test datasets\n",
    "\n",
    "print('Compressed pickle size: %d' % os.stat(SANITIZEDDATAFILE).st_size)"
   ]
  },
  {
   "cell_type": "markdown",
   "metadata": {},
   "source": [
    "### Problem 6"
   ]
  },
  {
   "cell_type": "markdown",
   "metadata": {},
   "source": [
    "To be completed soon"
   ]
  },
  {
   "cell_type": "code",
   "execution_count": 62,
   "metadata": {
    "collapsed": false
   },
   "outputs": [],
   "source": [
    "## Load pickled sanitized train, validation and test datasets\n",
    "\n",
    "with open(SANITIZEDDATAFILE, 'rb') as f:\n",
    "  sane_datasets = pickle.load(f)"
   ]
  },
  {
   "cell_type": "code",
   "execution_count": 63,
   "metadata": {
    "collapsed": true
   },
   "outputs": [],
   "source": [
    "## Construct test set to be used for logistic regression\n",
    "## Retain all images in the sanitized test set\n",
    "\n",
    "test_indices = np.arange(sane_datasets['ntest'])\n",
    "\n",
    "n_test = np.size(test_indices)\n",
    "\n",
    "test_X = sane_datasets['test_dataset'][test_indices, :, :]\n",
    "test_X = test_X.reshape(n_test, np.shape(test_X)[1]*np.shape(test_X)[2])\n",
    "\n",
    "test_y = sane_datasets['test_labels'][test_indices]"
   ]
  },
  {
   "cell_type": "code",
   "execution_count": 64,
   "metadata": {
    "collapsed": false
   },
   "outputs": [],
   "source": [
    "## Construct train set to be used for logistic regression\n",
    "## Randomly pick 50 images from the sanitized train set\n",
    "\n",
    "n_train = 50\n",
    "\n",
    "train_indices = \\\n",
    "  np.random.choice(np.arange(sane_datasets['ntrain']), n_train, replace=False)\n",
    "\n",
    "train_X = sane_datasets['train_dataset'][train_indices, :, :]\n",
    "train_X = train_X.reshape(n_train, np.shape(train_X)[1]*np.shape(train_X)[2])\n",
    "\n",
    "train_y = sane_datasets['train_labels'][train_indices]"
   ]
  },
  {
   "cell_type": "code",
   "execution_count": 65,
   "metadata": {
    "collapsed": true
   },
   "outputs": [],
   "source": [
    "## Define logistic regression model\n",
    "\n",
    "logreg = LogisticRegression(C=1e5, multi_class='multinomial', solver='lbfgs')"
   ]
  },
  {
   "cell_type": "code",
   "execution_count": 66,
   "metadata": {
    "collapsed": false
   },
   "outputs": [
    {
     "data": {
      "text/plain": [
       "LogisticRegression(C=100000.0, class_weight=None, dual=False,\n",
       "          fit_intercept=True, intercept_scaling=1, max_iter=100,\n",
       "          multi_class='multinomial', n_jobs=1, penalty='l2',\n",
       "          random_state=None, solver='lbfgs', tol=0.0001, verbose=0,\n",
       "          warm_start=False)"
      ]
     },
     "execution_count": 66,
     "metadata": {},
     "output_type": "execute_result"
    }
   ],
   "source": [
    "## Fit logistic regression model to the 50 training points\n",
    "\n",
    "logreg.fit(train_X, train_y)"
   ]
  },
  {
   "cell_type": "code",
   "execution_count": 67,
   "metadata": {
    "collapsed": false
   },
   "outputs": [],
   "source": [
    "## Get the configuration of the logistic regression model\n",
    "\n",
    "logreg.get_params();"
   ]
  },
  {
   "cell_type": "code",
   "execution_count": 68,
   "metadata": {
    "collapsed": false
   },
   "outputs": [],
   "source": [
    "## Get estimated coefficients\n",
    "\n",
    "# logreg.coef_"
   ]
  },
  {
   "cell_type": "code",
   "execution_count": 69,
   "metadata": {
    "collapsed": false
   },
   "outputs": [
    {
     "data": {
      "text/plain": [
       "0.64906417112299464"
      ]
     },
     "execution_count": 69,
     "metadata": {},
     "output_type": "execute_result"
    }
   ],
   "source": [
    "## Get mean accuracy of built model on the test set\n",
    "\n",
    "logreg.score(test_X, test_y)"
   ]
  },
  {
   "cell_type": "code",
   "execution_count": 70,
   "metadata": {
    "collapsed": false
   },
   "outputs": [
    {
     "name": "stdout",
     "output_type": "stream",
     "text": [
      "Number of images in test set: 8976\n",
      "Number of correctly predicted images in test set: 5826\n",
      "0.65% of images in test set correctly predicted\n"
     ]
    }
   ],
   "source": [
    "print('Number of images in test set: %d' % n_test)\n",
    "print(\n",
    "  'Number of correctly predicted images in test set: %d'\n",
    "  % sum(np.equal(logreg.predict(test_X), test_y)))\n",
    "print(\n",
    "  '%.2f%% of images in test set correctly predicted' \n",
    "  % round(np.float32(sum(np.equal(logreg.predict(test_X), test_y)))/n_test, 2)\n",
    ")"
   ]
  },
  {
   "cell_type": "code",
   "execution_count": 71,
   "metadata": {
    "collapsed": false
   },
   "outputs": [
    {
     "data": {
      "text/plain": [
       "0.65274064171122992"
      ]
     },
     "execution_count": 71,
     "metadata": {},
     "output_type": "execute_result"
    }
   ],
   "source": [
    "## Fit logistic regression on a train set consisting of 100 samples\n",
    "\n",
    "n_train = 100\n",
    "\n",
    "train_indices = \\\n",
    "  np.random.choice(np.arange(sane_datasets['ntrain']), n_train, replace=False)\n",
    "\n",
    "train_X = sane_datasets['train_dataset'][train_indices, :, :]\n",
    "train_X = train_X.reshape(n_train, np.shape(train_X)[1]*np.shape(train_X)[2])\n",
    "\n",
    "train_y = sane_datasets['train_labels'][train_indices]\n",
    "\n",
    "logreg = LogisticRegression(C=1e5, multi_class='multinomial', solver='lbfgs')\n",
    "\n",
    "logreg.fit(train_X, train_y)\n",
    "\n",
    "logreg.score(test_X, test_y)"
   ]
  },
  {
   "cell_type": "code",
   "execution_count": 72,
   "metadata": {
    "collapsed": false
   },
   "outputs": [
    {
     "data": {
      "text/plain": [
       "0.78631907308377902"
      ]
     },
     "execution_count": 72,
     "metadata": {},
     "output_type": "execute_result"
    }
   ],
   "source": [
    "## Fit logistic regression on a train set consisting of 1000 samples\n",
    "\n",
    "n_train = 1000\n",
    "\n",
    "train_indices = \\\n",
    "  np.random.choice(np.arange(sane_datasets['ntrain']), n_train, replace=False)\n",
    "\n",
    "train_X = sane_datasets['train_dataset'][train_indices, :, :]\n",
    "train_X = train_X.reshape(n_train, np.shape(train_X)[1]*np.shape(train_X)[2])\n",
    "\n",
    "train_y = sane_datasets['train_labels'][train_indices]\n",
    "\n",
    "logreg = LogisticRegression(C=1e5, multi_class='multinomial', solver='lbfgs')\n",
    "\n",
    "logreg.fit(train_X, train_y)\n",
    "\n",
    "logreg.score(test_X, test_y)"
   ]
  },
  {
   "cell_type": "code",
   "execution_count": 73,
   "metadata": {
    "collapsed": false
   },
   "outputs": [
    {
     "data": {
      "text/plain": [
       "0.7679367201426025"
      ]
     },
     "execution_count": 73,
     "metadata": {},
     "output_type": "execute_result"
    }
   ],
   "source": [
    "## Fit logistic regression on a train set consisting of 5000 samples\n",
    "\n",
    "n_train = 5000\n",
    "\n",
    "train_indices = \\\n",
    "  np.random.choice(np.arange(sane_datasets['ntrain']), n_train, replace=False)\n",
    "\n",
    "train_X = sane_datasets['train_dataset'][train_indices, :, :]\n",
    "train_X = train_X.reshape(n_train, np.shape(train_X)[1]*np.shape(train_X)[2])\n",
    "\n",
    "train_y = sane_datasets['train_labels'][train_indices]\n",
    "\n",
    "logreg = LogisticRegression(C=1e5, multi_class='multinomial', solver='lbfgs')\n",
    "\n",
    "logreg.fit(train_X, train_y)\n",
    "\n",
    "logreg.score(test_X, test_y)"
   ]
  }
 ],
 "metadata": {
  "kernelspec": {
   "display_name": "Python 2",
   "language": "python",
   "name": "python2"
  },
  "language_info": {
   "codemirror_mode": {
    "name": "ipython",
    "version": 2
   },
   "file_extension": ".py",
   "mimetype": "text/x-python",
   "name": "python",
   "nbconvert_exporter": "python",
   "pygments_lexer": "ipython2",
   "version": "2.7.13"
  }
 },
 "nbformat": 4,
 "nbformat_minor": 0
}
